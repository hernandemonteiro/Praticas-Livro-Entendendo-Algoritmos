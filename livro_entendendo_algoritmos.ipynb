{
  "nbformat": 4,
  "nbformat_minor": 0,
  "metadata": {
    "colab": {
      "provenance": [],
      "collapsed_sections": [
        "XMbJa4XU1Eis",
        "UdENEmlGIu1r",
        "dyRZtxuBcO6b",
        "TY22A8GQIrsd"
      ],
      "authorship_tag": "ABX9TyNg2OWTnFY78G8BExgajdsn",
      "include_colab_link": true
    },
    "kernelspec": {
      "name": "python3",
      "display_name": "Python 3"
    },
    "language_info": {
      "name": "python"
    }
  },
  "cells": [
    {
      "cell_type": "markdown",
      "metadata": {
        "id": "view-in-github",
        "colab_type": "text"
      },
      "source": [
        "<a href=\"https://colab.research.google.com/github/hernandemonteiro/Praticas-Livro-Entendendo-Algoritmos/blob/main/livro_entendendo_algoritmos.ipynb\" target=\"_parent\"><img src=\"https://colab.research.google.com/assets/colab-badge.svg\" alt=\"Open In Colab\"/></a>"
      ]
    },
    {
      "cell_type": "markdown",
      "source": [
        "# **BigO Notation**\n",
        "É a função que calcula o tempo de execução de um algoritmo baseado no espaço, ela sempre retornara o pior dos casos para aquele algoritmo (etapas necessárias, no pior dos casos), esse tempo de execução não é medido em 's' ou 'ms', ele é medido sobre a quantidade de etapas que sera necessária para resolver o algoritmo.\n",
        "\n",
        "\n",
        "---\n",
        "\n",
        "\n",
        "### **Existem 7 niveis de complexidade:**\n",
        "\n",
        "\n",
        "---\n",
        "\n",
        "\n",
        "<table>\n",
        "<thead>\n",
        "<tr>\n",
        "  <th>Operações</th>\n",
        "  <th>Nome</th>\n",
        "  <th>Complexidade</th>\n",
        "</tr>\n",
        "</thead>\n",
        "<tbody>\n",
        "  <tr>\n",
        "    <td>O(n!)</td>\n",
        "    <td>Fatorial</td>\n",
        "    <td>Quando cresce o array, as operações crescem fatorialmente, pior de todos os BigOs</td>\n",
        "  </tr>\n",
        "   <tr>\n",
        "    <td>O(2^n)</td>\n",
        "    <td>Exponencial</td>\n",
        "    <td>O tempo de execução do algoritmo aumenta exponencialmente com o tamanho da entrada.</td>\n",
        "  </tr>\n",
        "   <tr>\n",
        "    <td>O(n²)</td>\n",
        "    <td>Quadrático</td>\n",
        "    <td>O tempo de execução do algoritmo é proporcional ao quadrado do tamanho da entrada.</td>\n",
        "  </tr>\n",
        "   <tr>\n",
        "    <td>O(n log n)</td>\n",
        "    <td>Proporcional</td>\n",
        "    <td>Cresce em conformidade com a quantidade de dados na estrutura.</td>\n",
        "  </tr>\n",
        "   <tr>\n",
        "    <td>O(n)</td>\n",
        "    <td>Linear</td>\n",
        "    <td>No pior caso teriamos de percorrer toda a estrutura de dados para encontrar o valor.</td>\n",
        "  </tr>\n",
        "   <tr>\n",
        "    <td>O(log n)</td>\n",
        "    <td>Logaritimica</td>\n",
        "    <td>Quanto maior for o tamanho da estrutura menos tempo ele leva em consideração aos outros tempos de execução.</td>\n",
        "  </tr>\n",
        "   <tr>\n",
        "    <td>O(1)</td>\n",
        "    <td>Constante</td>\n",
        "    <td>Independentemente do tamanho da entrada, o tempo de execução do algoritmo permanece constante.</td>\n",
        "  </tr>\n",
        "</tbody>\n",
        "</table>\n"
      ],
      "metadata": {
        "id": "Ua9rrQTKIrhb"
      }
    },
    {
      "cell_type": "markdown",
      "source": [
        "## **Exemplos de Algoritmos**\n",
        "Abaixo temos alguns algoritmos utilizando python como linguagem, esses algoritmos\n",
        "tem em sua descrição seu tempo de execução.\n",
        "\n",
        "\n",
        "---"
      ],
      "metadata": {
        "id": "CvsK1spkASiD"
      }
    },
    {
      "cell_type": "markdown",
      "source": [
        "### **Busca (Search)**\n",
        "Algoritmos de busca são algoritmos utilizados para encontrar uma informação dentro de um conjunto de dados (Array, Lista, ...)"
      ],
      "metadata": {
        "id": "8DG-Iw-lzyhL"
      }
    },
    {
      "cell_type": "markdown",
      "source": [
        "#### **Linear Search**\n",
        "<div align=\"center\">\n",
        "<h4>\n",
        "<b>Tempo de Execução: $$O(n)$$</b>\n",
        "</h4>\n",
        "\n",
        "O algoritmo de busca linear tem por base o acesso linear a informação pedida, ou seja, ele anda cada posição do array até encontrar o valor, então caso o item pedido seja o ultimo, temos que percorrer todo o conjunto de dados para encontrar a posição esperada, por isso seu tempo de execução é refletido no tamnho de seu conjunto O(n), sendo n o tamanho do conjunto.\n",
        "<br/>\n",
        "\n",
        "> Funciona bem apenas quando não temos a opção de ordenar a lista, então precisamos percorrer cada posição da lista.\n",
        "</div>"
      ],
      "metadata": {
        "id": "XMbJa4XU1Eis"
      }
    },
    {
      "cell_type": "code",
      "source": [
        "import random\n",
        "\n",
        "# criando array e bagunçando ordem para uso aleatorio\n",
        "array = list(range(1, 240))\n",
        "random.shuffle(array)\n",
        "\n",
        "def linearSearch(array, item):\n",
        "  step = 1\n",
        "  for number in array:\n",
        "    if number == item:\n",
        "      print(f\"Step ({step}) => {number}\")\n",
        "      break\n",
        "    step+=1\n",
        "\n",
        "# Exemplos\n",
        "linearSearch(array, 1)\n",
        "linearSearch(array, 50)\n",
        "linearSearch(array, 230)"
      ],
      "metadata": {
        "colab": {
          "base_uri": "https://localhost:8080/"
        },
        "id": "GOHBmIgs2ZKc",
        "outputId": "d8e6b17b-81b7-44d0-b34b-5cfaa43ebbda"
      },
      "execution_count": null,
      "outputs": [
        {
          "output_type": "stream",
          "name": "stdout",
          "text": [
            "Step (55) => 1\n",
            "Step (216) => 50\n",
            "Step (132) => 230\n"
          ]
        }
      ]
    },
    {
      "cell_type": "markdown",
      "source": [
        "#### **Binary Search**\n",
        "\n",
        "<div align=\"center\">\n",
        "<h4><b>Tempo de Execução: $$O(\\log n)$$ </b></h4>\n",
        "<br/>\n",
        "Algoritmo de busca binaria tem por base a divisão e acesso ao valor central de um array ordenado, assim comparando a grandeza ou igualdade para excluir uma parte não correspondente do array.\n",
        "<br/>\n",
        "Chamamos de Busca Binária por ser sempre uma divisão ao meio do array.\n",
        "<br/>\n",
        "\n",
        "> Funciona apenas quando a lista é ordenada, em nosso caso de forma crescente.\n",
        "</div>"
      ],
      "metadata": {
        "id": "UdENEmlGIu1r"
      }
    },
    {
      "cell_type": "code",
      "source": [
        "# conjunto de dados\n",
        "array = list(range(1, 240001))"
      ],
      "metadata": {
        "id": "TOQzaVeQBF1t"
      },
      "execution_count": null,
      "outputs": []
    },
    {
      "cell_type": "code",
      "source": [
        "# algoritmo\n",
        "def myBynarySearch(array, item):\n",
        "  step = 1\n",
        "  if not array[0] <= item <= array[-1]:\n",
        "    print(\"Error out of range!\")\n",
        "    return\n",
        "\n",
        "  while True:\n",
        "    index = len(array) // 2\n",
        "    currentNumber = array[index]\n",
        "\n",
        "    if(currentNumber == item):\n",
        "      print(f\"Steps: {step}\")\n",
        "      print(currentNumber)\n",
        "      break\n",
        "    if item < currentNumber:\n",
        "      array = array[0:index]\n",
        "    else:\n",
        "      array = array[index:len(array)]\n",
        "\n",
        "    step += 1\n",
        "\n",
        "# chamada do algoritmo com conjunto de dado\n",
        "myBynarySearch(array, 1)"
      ],
      "metadata": {
        "colab": {
          "base_uri": "https://localhost:8080/"
        },
        "id": "m4IlJW1cW17Y",
        "outputId": "86c474ed-4e31-400b-a6ce-965739b8d684"
      },
      "execution_count": null,
      "outputs": [
        {
          "output_type": "stream",
          "name": "stdout",
          "text": [
            "Steps: 18\n",
            "1\n"
          ]
        }
      ]
    },
    {
      "cell_type": "markdown",
      "source": [
        "### **Ordenação (Sorting)**\n",
        "Algoritmos de ordenação são algoritmos utilizados para organizar de forma crescente ou decrescente uma estrutura de Dados.\n",
        "<br/>\n",
        "Hoje em dia a maioria das linguagens tem seus métodos internos de ordenação, então o estudo sobre é considerado uma boa prática, mas não tão usual no dia a dia."
      ],
      "metadata": {
        "id": "WlHRuaT4zZgb"
      }
    },
    {
      "cell_type": "markdown",
      "source": [
        "#### **Selection Sort**\n",
        "<div align=\"center\">\n",
        "\n",
        "![Selection Sort](https://i.stack.imgur.com/5ai2E.jpg)\n",
        "\n",
        "<h4><b>Tempo de Execução: $$O(n²)$$</b></h4>\n",
        "O algoritmo trabalha diretamente no array original, trocando os elementos de posição conforme necessário para ordená-los.\n",
        "\n",
        "----\n",
        "##### **O selection sort funciona da seguinte maneira:**\n",
        "---\n",
        "\n",
        "<div align=\"left\">\n",
        "\n",
        "1. Para cada posição no array, encontre o menor elemento na parte não ordenada do array (começando da posição atual até o final).\n",
        "2. Troque o menor elemento encontrado com o elemento na posição atual.\n",
        "3. Avance para a próxima posição no array e repita o processo até que todo o array esteja ordenado.\n",
        "</div>\n",
        "</div>\n"
      ],
      "metadata": {
        "id": "wbyXNOnirZlW"
      }
    },
    {
      "cell_type": "code",
      "source": [
        "def searchValue(arrayReceived, asc=True):\n",
        "  value = arrayReceived[0]\n",
        "  value_index = 0\n",
        "  for i in range(1, len(arrayReceived)):\n",
        "    condition = arrayReceived[i] < value if asc == True else arrayReceived[i] > value\n",
        "    if(condition):\n",
        "      value = arrayReceived[i]\n",
        "      value_index = i\n",
        "  return value_index"
      ],
      "metadata": {
        "id": "VR6NSJ0hqfRJ"
      },
      "execution_count": null,
      "outputs": []
    },
    {
      "cell_type": "code",
      "source": [
        "def selectionSort(arrayReceived, asc=True):\n",
        "  newArray = []\n",
        "  for i in range(len(arrayReceived)):\n",
        "    index = searchValue(arrayReceived, asc)\n",
        "    newArray.append(arrayReceived.pop(index))\n",
        "  return newArray"
      ],
      "metadata": {
        "id": "U1Bm4YSwDO4I"
      },
      "execution_count": null,
      "outputs": []
    },
    {
      "cell_type": "code",
      "source": [
        "array = [0, 3, 7, 4, 6, 2, 5, 8, 10, 1, 9]\n",
        "selectionSort(array, asc=False)"
      ],
      "metadata": {
        "colab": {
          "base_uri": "https://localhost:8080/"
        },
        "id": "SHKN4Ah2EbQt",
        "outputId": "4377ca06-9ce8-4b66-f540-9443efc11ae9"
      },
      "execution_count": null,
      "outputs": [
        {
          "output_type": "execute_result",
          "data": {
            "text/plain": [
              "[10, 9, 8, 7, 6, 5, 4, 3, 2, 1, 0]"
            ]
          },
          "metadata": {},
          "execution_count": 13
        }
      ]
    },
    {
      "cell_type": "markdown",
      "source": [
        "#### **Recursão**\n",
        "Vamos falar um pouco sobre recursão, aqui vão rodar alguns exemplos de código que podem ser utils em caso de precisarmos repetir sua chamada, ou seja, uma função que tem capacidade de chamar a si mesma novamente. dessa maneira aprenderemos recursão e logo voltaremos a falar sobre algoritmos de ordenação.\n",
        "\n",
        "\n",
        "\n",
        "> \"Os loops podem melhorar o desempenho do seu programa. a recursão melhora o desempenho do seu programador. Escolha o que for mais importante para sua situação.\"\n",
        "- Leigh CaldWell\n",
        "\n",
        "\n"
      ],
      "metadata": {
        "id": "D9yNGr4vVsQY"
      }
    },
    {
      "cell_type": "code",
      "source": [
        "# exemplo (fatorial), com loop\n",
        "\n",
        "def fatorial(number: int):\n",
        "  result = number\n",
        "  next = number;\n",
        "  while next > 1:\n",
        "    next-=1\n",
        "    result = result * next\n",
        "  return result"
      ],
      "metadata": {
        "id": "-Vi8S_BkWA9z"
      },
      "execution_count": null,
      "outputs": []
    },
    {
      "cell_type": "code",
      "source": [
        "fatorial(5)"
      ],
      "metadata": {
        "colab": {
          "base_uri": "https://localhost:8080/"
        },
        "id": "9AsB8VWLI7wx",
        "outputId": "d9de3863-aea3-4d0d-c3ff-f2695b02f84c"
      },
      "execution_count": null,
      "outputs": [
        {
          "output_type": "execute_result",
          "data": {
            "text/plain": [
              "120"
            ]
          },
          "metadata": {},
          "execution_count": 15
        }
      ]
    },
    {
      "cell_type": "code",
      "source": [
        "# fatorial recursivo\n",
        "\n",
        "def fat(x: int):\n",
        "  if x == 1:\n",
        "    return 1\n",
        "  else:\n",
        "    return x * fat(x-1)"
      ],
      "metadata": {
        "id": "L2pdnbhzF0s3"
      },
      "execution_count": null,
      "outputs": []
    },
    {
      "cell_type": "code",
      "source": [
        "fat(5)"
      ],
      "metadata": {
        "colab": {
          "base_uri": "https://localhost:8080/"
        },
        "id": "4hCryCRqGFPV",
        "outputId": "81df3695-d614-414f-d1a9-0957b913a2ff"
      },
      "execution_count": null,
      "outputs": [
        {
          "output_type": "execute_result",
          "data": {
            "text/plain": [
              "120"
            ]
          },
          "metadata": {},
          "execution_count": 17
        }
      ]
    },
    {
      "cell_type": "code",
      "source": [
        "# função regressiva (recursiva) que chama a si mesma\n",
        "def regressiva(number: int):\n",
        "  print(number)\n",
        "  if number > 1:\n",
        "    regressiva(number -1)"
      ],
      "metadata": {
        "id": "AC8EZ4NkPQsL"
      },
      "execution_count": null,
      "outputs": []
    },
    {
      "cell_type": "code",
      "source": [
        "regressiva(5)"
      ],
      "metadata": {
        "colab": {
          "base_uri": "https://localhost:8080/"
        },
        "id": "U-LeOqDLh2zu",
        "outputId": "4c634c4e-918c-46e2-e80a-5befdf8e6381"
      },
      "execution_count": null,
      "outputs": [
        {
          "output_type": "stream",
          "name": "stdout",
          "text": [
            "5\n",
            "4\n",
            "3\n",
            "2\n",
            "1\n"
          ]
        }
      ]
    },
    {
      "cell_type": "markdown",
      "source": [
        "#### **Quick Sort**\n",
        "<div align=\"center\">\n",
        "\n",
        "![Quick Sort Image](https://media.geeksforgeeks.org/wp-content/uploads/20231219164812/Quick-Sort-Algorithm.png)\n",
        "\n",
        "</div>\n",
        "\n",
        "Algoritmo de ordenação, com o lema: dividir para conquistar.\n",
        "<br/>\n",
        "\n",
        "Mais rápido que o Merge Sort, a relevância da constante de medida do BigO é uma das causas desse feito."
      ],
      "metadata": {
        "id": "lnCA1_VHfaKh"
      }
    },
    {
      "cell_type": "code",
      "source": [
        "# exemplo de DC ( dividir para conquistar )\n",
        "# aqui vemos uma ideia básica sobre\n",
        "# o métodod usado no algoritmo que estamos acompanhando\n",
        "# lição 4.1\n",
        "numberList = [2, 4, 5, 2]\n",
        "\n",
        "def sum(array: list[int]):\n",
        "  if not array:\n",
        "    return 0\n",
        "  else:\n",
        "    return array[0] + sum(array[1:])\n",
        "\n",
        "sum(numberList)"
      ],
      "metadata": {
        "colab": {
          "base_uri": "https://localhost:8080/"
        },
        "id": "h0f0NDGbfoH8",
        "outputId": "a7bd96ce-cff8-4206-8f8e-06d2dcd98be3"
      },
      "execution_count": null,
      "outputs": [
        {
          "output_type": "execute_result",
          "data": {
            "text/plain": [
              "13"
            ]
          },
          "metadata": {},
          "execution_count": 20
        }
      ]
    },
    {
      "cell_type": "code",
      "source": [
        "# contar os numeros da lista com função recursiva (DC)\n",
        "# lição 4.2\n",
        "numberList = [2, 4, 4]\n",
        "\n",
        "def countItems(array: list[int]):\n",
        "  if not array:\n",
        "    return 0\n",
        "  else:\n",
        "    return 1 + countItems(array[1:])\n",
        "\n",
        "countItems(numberList)"
      ],
      "metadata": {
        "colab": {
          "base_uri": "https://localhost:8080/"
        },
        "id": "A8MtQNG-bGrk",
        "outputId": "09ce595d-8e13-4354-879f-805a523fce39"
      },
      "execution_count": null,
      "outputs": [
        {
          "output_type": "execute_result",
          "data": {
            "text/plain": [
              "3"
            ]
          },
          "metadata": {},
          "execution_count": 21
        }
      ]
    },
    {
      "cell_type": "code",
      "source": [
        "# encontrar o valor mais alto da lista de forma recursiva (DC)\n",
        "# lição 4.3\n",
        "numberList = [2, 4, 12, 133, 4, 5, 25]\n",
        "\n",
        "def majorInArray(array: list[int]):\n",
        "  if len(array) == 1:\n",
        "    return array[0]\n",
        "  nextCall = majorInArray(array[1:])\n",
        "  return array[0] if array[0] >  nextCall else nextCall\n",
        "\n",
        "majorInArray(numberList)"
      ],
      "metadata": {
        "colab": {
          "base_uri": "https://localhost:8080/"
        },
        "id": "KuIVjMzurTYH",
        "outputId": "346449e3-d919-40c5-ccfc-0c52a2e80636"
      },
      "execution_count": null,
      "outputs": [
        {
          "output_type": "execute_result",
          "data": {
            "text/plain": [
              "133"
            ]
          },
          "metadata": {},
          "execution_count": 22
        }
      ]
    },
    {
      "cell_type": "code",
      "source": [
        "# Agora vamos ao QuickSort\n",
        "# escolhemos um numero como pivo\n",
        "# depois criamos dois arrays, um com os valores menores\n",
        "# e outro com os maiores que o pivo\n",
        "# após retornamos a soma de menores + pivo + maiores\n",
        "# e chamamos a recursividade para fazer isso até que\n",
        "# o caso-base seja retornado, ou seja, um array de\n",
        "# 1 posição, mesmo nesse caso o pior caso seria O(n)\n",
        "\n",
        "numberList = [32, 2, 74, 4, 12, 133, 1, 5, 25]\n",
        "\n",
        "def qsort(array: list[int]):\n",
        "  if len(array) < 2:\n",
        "    return array\n",
        "  else:\n",
        "    pivot: int = array[0]\n",
        "    minor = [i for i in array[1:] if i <= pivot]\n",
        "    major = [i for i in array[1:] if i >= pivot]\n",
        "    return qsort(minor) + [pivot] + qsort(major)\n",
        "\n",
        "qsort(numberList)"
      ],
      "metadata": {
        "colab": {
          "base_uri": "https://localhost:8080/"
        },
        "id": "-lHQ3SV1cuqL",
        "outputId": "138b6c4c-3526-467b-b01a-0325ca7915e5"
      },
      "execution_count": null,
      "outputs": [
        {
          "output_type": "execute_result",
          "data": {
            "text/plain": [
              "[1, 2, 4, 5, 12, 25, 32, 74, 133]"
            ]
          },
          "metadata": {},
          "execution_count": 23
        }
      ]
    },
    {
      "cell_type": "code",
      "source": [
        "# para diminuirmos o pior caso de tempo de execução para\n",
        "# O(n log n), podemos escolher o pivo aleatoriamente,\n",
        "# assim, os casos que apresentarem um ordenação podem\n",
        "# ser ordenados mais facilmente\n",
        "\n",
        "import random\n",
        "\n",
        "numberList = [32, 2, 74, 54, 4, 6, 12, 133, 1, 5, 25]\n",
        "\n",
        "def qsort2(array: list[int]):\n",
        "    if len(array) < 2:\n",
        "        return array\n",
        "    else:\n",
        "        pivot_index = random.randint(0, len(array) - 1)\n",
        "        pivot = array[pivot_index]\n",
        "        minor = [i for i in array[:pivot_index] + array[pivot_index + 1:] if i <= pivot]\n",
        "        major = [i for i in array[:pivot_index] + array[pivot_index + 1:] if i >= pivot]\n",
        "        return qsort2(minor) + [pivot] + qsort2(major)\n",
        "\n",
        "qsort2(numberList)\n"
      ],
      "metadata": {
        "colab": {
          "base_uri": "https://localhost:8080/"
        },
        "id": "mXwj_2wLKAos",
        "outputId": "0ff137e1-03d2-4446-d175-3961e4246046"
      },
      "execution_count": null,
      "outputs": [
        {
          "output_type": "execute_result",
          "data": {
            "text/plain": [
              "[1, 2, 4, 5, 6, 12, 25, 32, 54, 74, 133]"
            ]
          },
          "metadata": {},
          "execution_count": 24
        }
      ]
    },
    {
      "cell_type": "markdown",
      "source": [
        "### **Tabelas Hash**\n",
        "<div align=\"center\">\n",
        "\n",
        "![Hash Table image](https://upload.wikimedia.org/wikipedia/commons/thumb/3/34/HASHTB32.svg/294px-HASHTB32.svg.png)\n",
        "\n",
        "</div>\n",
        "Hash Tables ou Tabelas Hash, é uma estrutura de dados básica muito útil, ela mapeia chaves para valores, utilizando uma função de hash para calcular um índice (endereço) onde um valor pode ser encontrado.\n",
        "<br/>\n",
        "\n",
        "Elas funcionam com uma função hash, que retorna um valor para cada posição, mapeando assim as chaves para indices.\n",
        "<br/>\n",
        "\n",
        "São ótimas quando você deseja mapear algum item em relação a outro, por você precisar pesquisar algo.\n",
        "<br/><br/>\n",
        "Podem ser utilizadas para cachear informações importantes para a aplicação."
      ],
      "metadata": {
        "id": "Ct0__BXyLFNg"
      }
    },
    {
      "cell_type": "code",
      "source": [
        "# dentro das linguagens temos implementações\n",
        "# de hash tables como o Dictionary em python\n",
        "# ou os objects (JSON) em JS/TS\n",
        "\n",
        "caderno = dict()\n",
        "# ou caderno = {}\n",
        "caderno[\"maçã\"] = 0.67\n",
        "caderno[\"leite\"] = 1.49\n",
        "caderno[\"abacate\"] = 1.49\n",
        "\n",
        "print(f\"caderno: {caderno}\")\n",
        "\n",
        "# ficando mais facil acessar as posições\n",
        "# por cada item ser um index, isso fica mais facil\n",
        "\n",
        "print(\"Leite:\", caderno[\"leite\"])\n",
        "\n",
        "# que também pode ser escrito em python assim:\n",
        "\n",
        "caderno2 = {\n",
        "    \"maçã\": 0.67,\n",
        "    \"leite\": 1.49,\n",
        "    \"abacate\": 1.49,\n",
        "}\n",
        "\n",
        "print(f\"caderno2: {caderno2}\")"
      ],
      "metadata": {
        "colab": {
          "base_uri": "https://localhost:8080/"
        },
        "id": "wEXh3kvBQ1Y-",
        "outputId": "56facaa3-6386-4b4a-c1b6-b9ed79ae22f6"
      },
      "execution_count": null,
      "outputs": [
        {
          "output_type": "stream",
          "name": "stdout",
          "text": [
            "caderno: {'maçã': 0.67, 'leite': 1.49, 'abacate': 1.49}\n",
            "Leite: 1.49\n",
            "caderno2: {'maçã': 0.67, 'leite': 1.49, 'abacate': 1.49}\n"
          ]
        }
      ]
    },
    {
      "cell_type": "code",
      "source": [
        "print(caderno.get(\"uva\"))\n",
        "print(caderno.get(\"maçã\"))"
      ],
      "metadata": {
        "colab": {
          "base_uri": "https://localhost:8080/"
        },
        "id": "U5QWYacwzdpI",
        "outputId": "78dfc48e-c0d4-496e-803e-6e4c084bc59f"
      },
      "execution_count": null,
      "outputs": [
        {
          "output_type": "stream",
          "name": "stdout",
          "text": [
            "None\n",
            "0.67\n"
          ]
        }
      ]
    },
    {
      "cell_type": "code",
      "source": [
        "# exemplo para verificar se pessoas já votaram\n",
        "# em uma eleição\n",
        "\n",
        "voted = {}\n",
        "\n",
        "def verify_elector(name: str):\n",
        "  if voted.get(name):\n",
        "    print(\"Mande embora!\")\n",
        "  else:\n",
        "    voted[name] = True\n",
        "    print(\"Deixe votar\")\n",
        "\n",
        "# primeira vez que chega ao local para votar e apresenta nome\n",
        "verify_elector(\"Hernande\")\n",
        "print(\"\\n Votou! \\n\")\n",
        "# segunda vez chegando ao local que já votou\n",
        "verify_elector(\"Hernande\")"
      ],
      "metadata": {
        "colab": {
          "base_uri": "https://localhost:8080/"
        },
        "id": "73YeqLxp0ANI",
        "outputId": "a20011bf-8a63-4334-aedb-97ac456ddddc"
      },
      "execution_count": null,
      "outputs": [
        {
          "output_type": "stream",
          "name": "stdout",
          "text": [
            "Deixe votar\n",
            "\n",
            " Votou! \n",
            "\n",
            "Mande embora!\n"
          ]
        }
      ]
    },
    {
      "cell_type": "markdown",
      "source": [
        "##### **Colisões e Desempenho**\n",
        "Colisão é quando duas chaves são indicadas para o mesmo espaço em memória, para isso é importante o uso da função hash, ela mapeia cada dado para um único espaço.\n",
        "<br/>\n",
        "Para uma tabela hash ter um tempo de execução constante O(1), é importante que ela tenha um baixo fator de carga e uma boa função hash, senão pode causar colisões e podemos também gerar o pior caso de tempo de execução O(n) o que seria um tempo linear.\n",
        "<br/>\n",
        "A maior parte das linguagens já possui sua hash table implementada, então você não vai precisar implementar uma do zero, mas conhecer sobre é sempre bom."
      ],
      "metadata": {
        "id": "zBMXWLWz137w"
      }
    },
    {
      "cell_type": "code",
      "source": [
        "# tool para remover acentos\n",
        "!pip install unidecode"
      ],
      "metadata": {
        "colab": {
          "base_uri": "https://localhost:8080/"
        },
        "id": "CX7n5jkyEWmf",
        "outputId": "71ea2847-f88d-4fee-8917-fe3bf30d0356"
      },
      "execution_count": null,
      "outputs": [
        {
          "output_type": "stream",
          "name": "stdout",
          "text": [
            "Collecting unidecode\n",
            "  Downloading Unidecode-1.3.8-py3-none-any.whl (235 kB)\n",
            "\u001b[2K     \u001b[90m━━━━━━━━━━━━━━━━━━━━━━━━━━━━━━━━━━━━━━━━\u001b[0m \u001b[32m235.5/235.5 kB\u001b[0m \u001b[31m3.3 MB/s\u001b[0m eta \u001b[36m0:00:00\u001b[0m\n",
            "\u001b[?25hInstalling collected packages: unidecode\n",
            "Successfully installed unidecode-1.3.8\n"
          ]
        }
      ]
    },
    {
      "cell_type": "code",
      "source": [
        "from unidecode import unidecode\n",
        "\n",
        "text = \"Maus\"\n",
        "# exercicios função hash\n",
        "#  a - retorne 1 para qualquer entrada\n",
        "def returnOne(input: str):\n",
        "  print(f\"Return One: {input}\")\n",
        "  return 1\n",
        "\n",
        "print(returnOne(text))\n",
        "\n",
        "#  b - use o comprimento da string como indice\n",
        "def returnLength(input: str):\n",
        "  print(f\"Return Length: {input}\")\n",
        "  return len(input)\n",
        "\n",
        "print(returnLength(text))\n",
        "\n",
        "#  c - use o primeiro caractere como indice\n",
        "def returnFirstLetter(input: str):\n",
        "  print(f\"First Letter: {input}\")\n",
        "  return input[0]\n",
        "\n",
        "print(returnFirstLetter(text)\n",
        ")\n",
        "#  d - mapeie cada letra para um numero primo\n",
        "def prime_mapping(letter):\n",
        "  prime_numbers = [2, 3, 5, 7, 11, 13, 17, 19, 23, 29, 31, 37, 41, 43, 47, 53, 59, 61, 67, 71, 73, 79, 83, 89, 97, 101, 103, 107]\n",
        "  letter = unidecode(letter)\n",
        "  if letter.isalpha():\n",
        "    base = ord('A') if letter.isupper() else ord('a')\n",
        "    offset = ord(letter) - base\n",
        "    return prime_numbers[offset]\n",
        "  elif letter == ' ':\n",
        "    return 0\n",
        "  else:\n",
        "    return 0\n",
        "\n",
        "def returnPrimeNumberHash(input: str):\n",
        "  print(f\"Prime Number Hash: {input}\")\n",
        "  hash = 10\n",
        "  primeNumbers = [prime_mapping(letter) for letter in input]\n",
        "  return sum(primeNumbers) % hash\n",
        "\n",
        "print(returnPrimeNumberHash(text)\n",
        ")"
      ],
      "metadata": {
        "colab": {
          "base_uri": "https://localhost:8080/"
        },
        "id": "GLKp81s_6L-n",
        "outputId": "b740ddf8-4c5a-4d33-b9ef-979009838846"
      },
      "execution_count": null,
      "outputs": [
        {
          "output_type": "stream",
          "name": "stdout",
          "text": [
            "Return One: Maus\n",
            "1\n",
            "Return Length: Maus\n",
            "4\n",
            "First Letter: Maus\n",
            "M\n",
            "Prime Number Hash: Maus\n",
            "3\n"
          ]
        }
      ]
    },
    {
      "cell_type": "markdown",
      "source": [
        "### **Pesquisa em Largura**\n",
        "\n",
        "<div align=\"center\">\n",
        "\n",
        "![BDS](https://encrypted-tbn0.gstatic.com/images?q=tbn:ANd9GcScjjt6ZvfpVa2JZL6Sqk5TTAZPwFxBeqVnCz9860q2zQ&s)\n",
        "\n",
        "</div>\n",
        "\n",
        "Pesquisa em Largura ou Breadth First Search (BFS) é um algoritmo para pesquisa em Grafos (Graph), uma estrutura de dados que veremos agora também.\n",
        "<br/>\n",
        "Essa pesquisa permite encontrar o menor caminho entre dois objetos.\n",
        "<br/>\n",
        "Com isso abrimos um leque de possibilidades:\n",
        "\n",
        "- Escrever um algoritmo de Machine Learning que encontre o menor numero de jogadas para uma vitória em partida de damas.\n",
        "\n",
        "- Criar um corretor ortográfico ( o qual calcula o menor número de edições para transformar a palavra digitada incorretamente em uma palavra real )\n",
        "\n",
        "- Encontrar o médico conveniado mais perto de você.\n",
        "\n",
        "\n",
        "#### **Grafo**\n",
        "\n",
        "Um grafo é um conjunto de conexões composto por vértices (nó) e arestas (link, arco), essas vértices se relacionam entre si por meio das arestas.\n",
        "<br/>\n",
        "Todos os nós conectados diretamente por uma aresta também são conhecidos como vizinhos.\n",
        "<br/><br/>\n",
        "Exemplo:\n",
        "<br/>\n",
        "\n",
        "![Imagem de vértice e aresta](https://resumos.leic.pt/static/f6fdb904523248a98dfe256850c5ac92/0aaa2/0018-grafo.png)"
      ],
      "metadata": {
        "id": "ddIEDZ-gKDX4"
      }
    },
    {
      "cell_type": "code",
      "source": [
        "# exemplo de grafo em código, mapeando amigos próximos (vizinhos).\n",
        "# como mapear você -> bov, você -> claire, você -> alice?\n",
        "\n",
        "grafo = {}\n",
        "\n",
        "grafo[\"voce\"] = [\"alice\", \"bob\", \"claire\"]\n",
        "\n",
        "print(grafo)\n",
        "\n",
        "# e para um grafo maior? adicionando amigo dos amigos\n",
        "\n",
        "grafo[\"bob\"] = [\"anuj\", \"peggy\"]\n",
        "grafo[\"alice\"] = [\"peggy\"]\n",
        "grafo[\"claire\"] = [\"thom\", \"jonny\"]\n",
        "grafo[\"anuj\"] = []\n",
        "grafo[\"peggy\"] = []\n",
        "grafo[\"thom\"] = []\n",
        "grafo[\"jonny\"] = []\n",
        "\n",
        "\n",
        "# para os casos de anuj, peggy, thom e jonny, eles tem\n",
        "# grafos apontados para eles, mas não apontam para ninguém, ou seja,\n",
        "# não tem vizinhos, esses são chamados de digrafos ou grafo direcionado,\n",
        "# em grafos não direcionados, ambos os vizinhos apontam um para o outro,\n",
        "# um exemplo nesse caso seria que o \"thom\" seria vizinho de \"claire\"\n",
        "print(grafo)"
      ],
      "metadata": {
        "colab": {
          "base_uri": "https://localhost:8080/"
        },
        "id": "UWOpHkhhWpq3",
        "outputId": "64d3fde8-8a72-4b8b-f6c6-3c5fabc85685"
      },
      "execution_count": null,
      "outputs": [
        {
          "output_type": "stream",
          "name": "stdout",
          "text": [
            "{'voce': ['alice', 'bob', 'claire']}\n",
            "{'voce': ['alice', 'bob', 'claire'], 'bob': ['anuj', 'peggy'], 'alice': ['peggy'], 'claire': ['thom', 'jonny'], 'anuj': [], 'peggy': [], 'thom': [], 'jonny': []}\n"
          ]
        }
      ]
    },
    {
      "cell_type": "code",
      "source": [
        "# Implementando o algoritmo de BFS\n",
        "from collections import deque\n",
        "\n",
        "# digamos que o vendedor de manga termine com a letra \"m\"\n",
        "def person_is_seller(name):\n",
        "  return name[-1] == \"m\"\n",
        "\n",
        "def bfsAlgo(grafo):\n",
        "  search_stack = deque()\n",
        "  search_stack += grafo[\"voce\"]\n",
        "  verified = []\n",
        "  while search_stack:\n",
        "    person = search_stack.popleft()\n",
        "    if person not in verified:\n",
        "      if person_is_seller(person):\n",
        "        print(person + \" é um vendedor de manga!\")\n",
        "        return True\n",
        "      else:\n",
        "        search_stack += grafo[person]\n",
        "        verified.append(person)\n",
        "  return False"
      ],
      "metadata": {
        "id": "euA-_7VyxRcu"
      },
      "execution_count": null,
      "outputs": []
    },
    {
      "cell_type": "code",
      "source": [
        "bfsAlgo(grafo)"
      ],
      "metadata": {
        "colab": {
          "base_uri": "https://localhost:8080/"
        },
        "id": "anHLtmZPy2yK",
        "outputId": "cb22707d-133c-45d1-9668-7b1b3881c66a"
      },
      "execution_count": null,
      "outputs": [
        {
          "output_type": "stream",
          "name": "stdout",
          "text": [
            "thom é um vendedor de manga!\n"
          ]
        },
        {
          "output_type": "execute_result",
          "data": {
            "text/plain": [
              "True"
            ]
          },
          "metadata": {},
          "execution_count": 32
        }
      ]
    },
    {
      "cell_type": "markdown",
      "source": [
        "### **Algoritmo de Dijkstra**\n",
        "\n",
        "Algoritmo que ajuda determinar o caminho mais curto levando em conta seu tempo.\n",
        "<br/>\n",
        "Esse algoritmo só funciona quando não temos um ciclo, grafo não direcionado ou grafos com pesos negativos, para esse outro caso podemos utilizar o algoritmo Bellman-Ford, o qual permite essas entradas, mas é mais lento."
      ],
      "metadata": {
        "id": "cgUr9krlPr4U"
      }
    },
    {
      "cell_type": "code",
      "source": [
        "def ache_nodo_custo_mais_baixo(custos, processados):\n",
        "  custo_mais_baixo = float(\"inf\")\n",
        "  nodo_custo_mais_baixo = None\n",
        "  for nodo in custos:\n",
        "    custo = custos[nodo]\n",
        "    if custo<custo_mais_baixo and nodo not in processados:\n",
        "      custo_mais_baixo = custo\n",
        "      nodo_custo_mais_baixo = nodo\n",
        "  return nodo_custo_mais_baixo"
      ],
      "metadata": {
        "id": "7u2Yf-RYOopb"
      },
      "execution_count": null,
      "outputs": []
    },
    {
      "cell_type": "code",
      "source": [
        "def caminho_do_grafo(initKey: str, endKey: str, fathers: dict):\n",
        "  atual = endKey\n",
        "  custo_total = 0\n",
        "  caminho = []\n",
        "  caminho.append(endKey)\n",
        "\n",
        "  while atual != initKey:\n",
        "    pai = fathers[atual]\n",
        "    atual = pai\n",
        "    caminho.append(pai)\n",
        "  caminho[:] = reversed(caminho)\n",
        "  for i in caminho:\n",
        "    print(i)\n",
        "\n",
        "  print(\"\\nCusto Total:\", custos[\"fim\"])"
      ],
      "metadata": {
        "id": "P6sDnRreVJvo"
      },
      "execution_count": null,
      "outputs": []
    },
    {
      "cell_type": "code",
      "source": [
        "def dijkstra_algo(custos):\n",
        "  processados = []\n",
        "  nodo = ache_nodo_custo_mais_baixo(custos, processados)\n",
        "  while nodo is not None:\n",
        "    custo = custos[nodo]\n",
        "    vizinhos = grafo[nodo]\n",
        "    for n in vizinhos.keys():\n",
        "      novo_custo = custo + vizinhos[n]\n",
        "      if custos[n] > novo_custo:\n",
        "        custos[n] = novo_custo\n",
        "        pais[n] = nodo\n",
        "    processados.append(nodo)\n",
        "    nodo = ache_nodo_custo_mais_baixo(custos, processados)\n",
        "  caminho_do_grafo(\"inicio\", \"fim\", pais)"
      ],
      "metadata": {
        "id": "qJv5aznTNz9D"
      },
      "execution_count": null,
      "outputs": []
    },
    {
      "cell_type": "code",
      "source": [
        "grafo = {}\n",
        "\n",
        "grafo[\"inicio\"] = {}\n",
        "grafo[\"inicio\"][\"a\"] = 6\n",
        "grafo[\"inicio\"][\"b\"] = 2\n",
        "grafo[\"a\"] = {}\n",
        "grafo[\"a\"][\"fim\"] = 1\n",
        "grafo[\"b\"] = {}\n",
        "grafo[\"b\"][\"a\"] = 3\n",
        "grafo[\"b\"][\"fim\"] = 5\n",
        "grafo[\"fim\"] = {}\n",
        "\n",
        "infinito = float(\"inf\")\n",
        "\n",
        "custos = {}\n",
        "custos[\"a\"] = 6\n",
        "custos[\"b\"] = 2\n",
        "custos[\"fim\"] = infinito\n",
        "\n",
        "pais = {}\n",
        "\n",
        "pais[\"a\"] = \"inicio\"\n",
        "pais[\"b\"] = \"inicio\"\n",
        "pais[\"fim\"] = None\n",
        "\n",
        "dijkstra_algo(custos)"
      ],
      "metadata": {
        "colab": {
          "base_uri": "https://localhost:8080/"
        },
        "id": "GZ-1k289V0Sd",
        "outputId": "c750e9e1-cb38-4f2e-8f9f-218808d7e306"
      },
      "execution_count": null,
      "outputs": [
        {
          "output_type": "stream",
          "name": "stdout",
          "text": [
            "inicio\n",
            "b\n",
            "a\n",
            "fim\n",
            "\n",
            "Custo Total: 6\n"
          ]
        }
      ]
    },
    {
      "cell_type": "code",
      "source": [
        "grafo = {}\n",
        "\n",
        "grafo[\"inicio\"] = {}\n",
        "grafo[\"inicio\"][\"a\"] = 5\n",
        "grafo[\"inicio\"][\"b\"] = 2\n",
        "grafo[\"a\"] = {}\n",
        "grafo[\"a\"][\"d\"] = 2\n",
        "grafo[\"a\"][\"c\"] = 4\n",
        "grafo[\"b\"] = {}\n",
        "grafo[\"b\"][\"a\"] = 8\n",
        "grafo[\"b\"][\"d\"] = 7\n",
        "grafo[\"c\"] = {}\n",
        "grafo[\"c\"][\"d\"] = 6\n",
        "grafo[\"c\"][\"fim\"] = 3\n",
        "grafo[\"d\"] = {}\n",
        "grafo[\"d\"][\"fim\"] = 1\n",
        "grafo[\"fim\"] = {}\n",
        "\n",
        "infinito = float(\"inf\")\n",
        "custos = {}\n",
        "custos[\"a\"] = 5\n",
        "custos[\"b\"] = 2\n",
        "custos[\"c\"] = infinito\n",
        "custos[\"d\"] = infinito\n",
        "custos[\"fim\"] = infinito\n",
        "\n",
        "\n",
        "pais = {}\n",
        "pais[\"a\"] = \"inicio\"\n",
        "pais[\"b\"] = \"inicio\"\n",
        "pais[\"c\"] = None\n",
        "pais[\"d\"] = None\n",
        "pais[\"fim\"] = None\n",
        "\n",
        "dijkstra_algo(custos)"
      ],
      "metadata": {
        "colab": {
          "base_uri": "https://localhost:8080/"
        },
        "id": "WgizvmlWHcn-",
        "outputId": "15418cce-706b-4fb0-dc83-f1e3ef1fb848"
      },
      "execution_count": null,
      "outputs": [
        {
          "output_type": "stream",
          "name": "stdout",
          "text": [
            "inicio\n",
            "a\n",
            "d\n",
            "fim\n",
            "\n",
            "Custo Total: 8\n"
          ]
        }
      ]
    },
    {
      "cell_type": "code",
      "source": [
        "# Representações de grafos, podemos usar hash tables,\n",
        "# mas também outras formas de representar.\n",
        "# Exemplo: matriz de adjacência\n",
        "\n",
        "# Criando uma lista 2D que representa uma adjacency matrix (graph)\n",
        "adjacency_matrix = [\n",
        "    [0, 1, 1, 0, 0],\n",
        "    [1, 0, 1, 1, 0],\n",
        "    [1, 1, 0, 1, 1],\n",
        "    [0, 1, 1, 0, 1],\n",
        "    [0, 0, 1, 1, 0]\n",
        "]\n",
        "\n",
        "# Print the adjacency matrix\n",
        "for row in adjacency_matrix:\n",
        "    print(row)"
      ],
      "metadata": {
        "colab": {
          "base_uri": "https://localhost:8080/"
        },
        "id": "mi6ilSxeQk99",
        "outputId": "2a22df40-c0ae-4c0d-cf3c-a9a678286190"
      },
      "execution_count": null,
      "outputs": [
        {
          "output_type": "stream",
          "name": "stdout",
          "text": [
            "[0, 1, 1, 0, 0]\n",
            "[1, 0, 1, 1, 0]\n",
            "[1, 1, 0, 1, 1]\n",
            "[0, 1, 1, 0, 1]\n",
            "[0, 0, 1, 1, 0]\n"
          ]
        }
      ]
    },
    {
      "cell_type": "code",
      "source": [
        "# Exemplo: lista de adjacência\n",
        "\n",
        "# Criando um dicionário que representa uma lista de adjacência (graph)\n",
        "lista_adjacencia = {\n",
        "    0: [1, 2],\n",
        "    1: [0, 2, 3, 4],\n",
        "    2: [0, 1, 3, 4],\n",
        "    3: [1, 2, 4],\n",
        "    4: [1, 2, 3]\n",
        "}\n",
        "\n",
        "# Imprimindo a lista de adjacência\n",
        "for key, value in lista_adjacencia.items():\n",
        "    print(f\"Node {key}: {value}\")"
      ],
      "metadata": {
        "id": "FxWo4H8qR1da"
      },
      "execution_count": null,
      "outputs": []
    },
    {
      "cell_type": "markdown",
      "source": [
        "### **Algoritmo Guloso (greedy algorithm)**\n",
        "\n",
        "Um algoritmo guloso, ou greedy algorithm, é um tipo de algoritmo que busca a solução ótima de um problema em etapas locais, com a esperança de que cada passo leve a uma solução global ótima. Em geral, um algoritmo guloso faz uma série de escolhas que parecem ser as melhores no momento, sem considerar as consequências futuras.\n",
        "<br/>\n",
        "<br/>\n",
        "Algoritmos gulosos são frequentemente usados em problemas de otimização, como o problema da mochila (knapsack problem), onde você precisa preencher uma mochila com itens de valores e pesos diferentes de forma a maximizar o valor total sem exceder o peso máximo da mochila.\n",
        "<br/>\n",
        "<br/>\n",
        "Pontos a observar:\n",
        "* Não garante a solução ótima: Embora os algoritmos gulosos sejam intuitivos e fáceis de implementar, eles não garantem sempre a solução ótima. Às vezes, podem produzir soluções subótimas.\n",
        "* Não necessidade de backtracking: Uma vez feita uma escolha em um algoritmo guloso, ela é final e não será revisada posteriormente. Ou seja, não há necessidade de desfazer ou reverter escolhas anteriores.\n",
        "* Eficiência: Em muitos casos, os algoritmos gulosos são eficientes e têm boa performance. Eles são especialmente úteis quando se deseja encontrar uma solução aproximada para um problema de otimização em um tempo razoável."
      ],
      "metadata": {
        "id": "dyRZtxuBcO6b"
      }
    },
    {
      "cell_type": "code",
      "source": [
        "# algoritmo de aproximação (exemplo de algoritmo guloso)\n",
        "\n",
        "estados_abranger = set([\"mt\", \"wa\", \"or\", \"id\", \"nv\", \"ut\", \"ca\", \"az\"])\n",
        "print(\"Estados:\", estados_abranger)\n",
        "\n",
        "estacoes = {}\n",
        "\n",
        "estacoes[\"kum\"] = set([\"id\", \"nv\", \"ut\"])\n",
        "estacoes[\"kdois\"] = set([\"wa\", \"id\", \"mt\"])\n",
        "estacoes[\"ktres\"] = set([\"or\", \"nv\", \"ca\"])\n",
        "estacoes[\"kquatro\"] = set([\"nv\", \"ut\"])\n",
        "estacoes[\"kcinco\"] = set([\"ca\", \"az\"])\n",
        "\n",
        "estacoes_finais = set()\n",
        "\n",
        "while estados_abranger:\n",
        "  melhor_estacao = None\n",
        "  estados_cobertos = set()\n",
        "\n",
        "  for estacao, estados in estacoes.items():\n",
        "    cobertos = estados_abranger & estados\n",
        "    if len(cobertos) > len(estados_cobertos):\n",
        "      melhor_estacao = estacao\n",
        "      estados_cobertos = cobertos\n",
        "\n",
        "    estados_abranger -= estados_cobertos\n",
        "    estacoes_finais.add(melhor_estacao)\n",
        "\n",
        "print(estacoes_finais)"
      ],
      "metadata": {
        "colab": {
          "base_uri": "https://localhost:8080/"
        },
        "id": "lDvJWqHexK5a",
        "outputId": "97996eae-da7c-4662-f8f0-f6d47bb8a419"
      },
      "execution_count": null,
      "outputs": [
        {
          "output_type": "stream",
          "name": "stdout",
          "text": [
            "Estados: {'wa', 'nv', 'mt', 'ca', 'az', 'ut', 'or', 'id'}\n",
            "{'ktres', 'kum', 'kdois', None, 'kcinco'}\n"
          ]
        }
      ]
    },
    {
      "cell_type": "markdown",
      "source": [
        "#### **Problemas NP-completos**\n",
        "Problemas NP-completos são um conjunto especial de problemas na teoria da complexidade computacional. A classe de problemas NP-completos é composta por problemas que, intuitivamente, são tão difíceis que, se houvesse um algoritmo eficiente para resolver qualquer um deles, então todos os problemas em NP poderiam ser resolvidos de forma eficiente.\n",
        "<br/>\n",
        "Um exemplo é o problema do caixeiro viajante.\n",
        "<br/>\n",
        "Em resumo problemas NP-Completo não tem uma solução rápida.\n",
        "<br/>\n",
        "No caso de encontrar um NP-Completo o melhor a se fazer é usar um algoritmo de aproximação."
      ],
      "metadata": {
        "id": "X26IZ5sF3FFZ"
      }
    },
    {
      "cell_type": "markdown",
      "source": [
        "### **Programação Dinâmica**\n",
        "É uma técnica para resolução de problemas complexos que se baseia na divisão de um problema em subproblemas, os quais são resolvidos separadamente.\n",
        "<br/>\n",
        "Todas as soluções de programação dinâmica envolve uma tabela."
      ],
      "metadata": {
        "id": "TY22A8GQIrsd"
      }
    },
    {
      "cell_type": "code",
      "source": [
        "# Maior substring comum\n",
        "def common_substring (palavra_a, palavra_b):\n",
        "  celula = [[0 for _ in range(len(palavra_b) + 1)] for _ in range(len(palavra_a) + 1)]\n",
        "\n",
        "  for i in range(1, len(palavra_a) + 1):\n",
        "      for j in range(1, len(palavra_b) + 1):\n",
        "          if palavra_a[i - 1] == palavra_b[j - 1]:\n",
        "              celula[i][j] = celula[i - 1][j - 1] + 1\n",
        "          else:\n",
        "              celula[i][j] = 0\n",
        "\n",
        "  print(\"Comprimento maior substring comum:\", max(max(row) for row in celula))\n",
        "  return celula"
      ],
      "metadata": {
        "id": "PzsEoTXrRfwX"
      },
      "execution_count": null,
      "outputs": []
    },
    {
      "cell_type": "code",
      "source": [
        "common_substring(\"hish\", \"fish\")"
      ],
      "metadata": {
        "colab": {
          "base_uri": "https://localhost:8080/"
        },
        "id": "9263e5PXCR04",
        "outputId": "4bb8954f-d9ab-4380-f9cf-c4ae1c2ece80"
      },
      "execution_count": null,
      "outputs": [
        {
          "output_type": "stream",
          "name": "stdout",
          "text": [
            "Comprimento maior substring comum: 3\n"
          ]
        },
        {
          "output_type": "execute_result",
          "data": {
            "text/plain": [
              "[[0, 0, 0, 0, 0],\n",
              " [0, 0, 0, 0, 1],\n",
              " [0, 0, 1, 0, 0],\n",
              " [0, 0, 0, 2, 0],\n",
              " [0, 0, 0, 0, 3]]"
            ]
          },
          "metadata": {},
          "execution_count": 25
        }
      ]
    },
    {
      "cell_type": "code",
      "source": [
        "common_substring(\"hish\", \"vista\")"
      ],
      "metadata": {
        "colab": {
          "base_uri": "https://localhost:8080/"
        },
        "id": "aEVGxKe-IEwf",
        "outputId": "882c2201-6e0e-48e4-c742-8e7ac9fec877"
      },
      "execution_count": null,
      "outputs": [
        {
          "output_type": "stream",
          "name": "stdout",
          "text": [
            "Comprimento maior substring comum: 2\n"
          ]
        },
        {
          "output_type": "execute_result",
          "data": {
            "text/plain": [
              "[[0, 0, 0, 0, 0, 0],\n",
              " [0, 0, 0, 0, 0, 0],\n",
              " [0, 0, 1, 0, 0, 0],\n",
              " [0, 0, 0, 2, 0, 0],\n",
              " [0, 0, 0, 0, 0, 0]]"
            ]
          },
          "metadata": {},
          "execution_count": 26
        }
      ]
    },
    {
      "cell_type": "code",
      "source": [
        "def common_subsequence(palavra_a, palavra_b):\n",
        "    celula = [[0 for _ in range(len(palavra_b) + 1)] for _ in range(len(palavra_a) + 1)]\n",
        "\n",
        "    for i in range(1, len(palavra_a) + 1):\n",
        "        for j in range(1, len(palavra_b) + 1):\n",
        "            if palavra_a[i - 1] == palavra_b[j - 1]:\n",
        "                celula[i][j] = celula[i - 1][j - 1] + 1\n",
        "            else:\n",
        "                celula[i][j] = max(celula[i - 1][j], celula[i][j - 1])\n",
        "\n",
        "    max_subsequence_length = celula[-1][-1]\n",
        "    print(\"Comprimento da maior subsequência comum:\", max_subsequence_length)\n",
        "\n",
        "    return celula"
      ],
      "metadata": {
        "id": "LESZd3xcGTbS"
      },
      "execution_count": null,
      "outputs": []
    },
    {
      "cell_type": "code",
      "source": [
        "# nesse caso a maior substring falharia, sendo necessario outro algoritmo\n",
        "celula1 = common_substring(\"fosh\", \"fish\")\n",
        "print(celula1)\n",
        "# aqui está a solução a aplicação da susequência comum\n",
        "celula2 = common_subsequence(\"fosh\", \"fish\")\n",
        "print(celula2)\n",
        "\n",
        "# a maior subsequência é utilizada para análise de similaridade\n",
        "# nas leitura de fitas de DNA, isso pode dizer o quão semelhante\n",
        "# são dois animais ou duas doenças"
      ],
      "metadata": {
        "colab": {
          "base_uri": "https://localhost:8080/"
        },
        "id": "R-JwvfiIMVH6",
        "outputId": "466087e4-7932-4082-a8d0-f6b50bf6df33"
      },
      "execution_count": null,
      "outputs": [
        {
          "output_type": "stream",
          "name": "stdout",
          "text": [
            "Comprimento maior substring comum: 2\n",
            "[[0, 0, 0, 0, 0], [0, 1, 0, 0, 0], [0, 0, 0, 0, 0], [0, 0, 0, 1, 0], [0, 0, 0, 0, 2]]\n",
            "Comprimento da maior subsequência comum: 3\n",
            "[[0, 0, 0, 0, 0], [0, 1, 1, 1, 1], [0, 1, 1, 1, 1], [0, 1, 1, 2, 2], [0, 1, 1, 2, 3]]\n"
          ]
        }
      ]
    },
    {
      "cell_type": "code",
      "source": [
        "common_substring(\"blue\", \"clue\")"
      ],
      "metadata": {
        "colab": {
          "base_uri": "https://localhost:8080/"
        },
        "id": "Y1L1qFkDN5rT",
        "outputId": "c7fcd520-7292-4ef2-aa7e-fe99e2bfde1e"
      },
      "execution_count": null,
      "outputs": [
        {
          "output_type": "stream",
          "name": "stdout",
          "text": [
            "Comprimento maior substring comum: 3\n"
          ]
        },
        {
          "output_type": "execute_result",
          "data": {
            "text/plain": [
              "[[0, 0, 0, 0, 0],\n",
              " [0, 0, 0, 0, 0],\n",
              " [0, 0, 1, 0, 0],\n",
              " [0, 0, 0, 2, 0],\n",
              " [0, 0, 0, 0, 3]]"
            ]
          },
          "metadata": {},
          "execution_count": 40
        }
      ]
    },
    {
      "cell_type": "markdown",
      "source": [
        "### **k-nearest neighbors (k-vizinhos mais próximos)**\n",
        "\n",
        "Esse é um algoritmo de classificação amplamente usado em machine learning, ele ajuda classificar conjuntos de dados em categorias e suas semelhanças através da regressão. esse algoritmo consegue classificar itens por aproximação, calculando seus vizinhos mais próximos."
      ],
      "metadata": {
        "id": "bvdEc86AOLSV"
      }
    },
    {
      "cell_type": "code",
      "source": [
        "import pandas as pd\n",
        "from math import sqrt\n",
        "usuarios_pd = pd.DataFrame({\n",
        "     \"Priyanka\": [3, 4, 4, 1, 4],\n",
        "    \"Justin\": [4, 3, 5, 1, 5],\n",
        "    \"Morpheus\": [2, 5, 1, 3, 1]\n",
        "}, index=[\"comédia\", \"ação\", \"drama\", \"terror\", \"romance\"])\n",
        "\n",
        "usuarios = {\n",
        "    \"Priyanka\": [3, 4, 4, 1, 4],\n",
        "    \"Justin\": [4, 3, 5, 1, 5],\n",
        "    \"Morpheus\": [2, 5, 1, 3, 1]\n",
        "}\n",
        "\n",
        "\n",
        "def distancia_usuarios(user_one, user_two):\n",
        "  sum = 0\n",
        "  for i in range(0, len(user_one)):\n",
        "    number = (user_one[i] - user_two[i]) ** 2\n",
        "    sum += number\n",
        "  return sqrt(sum)\n",
        "\n",
        "# print(\"Justin <> Priyanka\", distancia_usuarios(usuarios[\"Justin\"], usuarios[\"Priyanka\"]))\n",
        "# print(\"Priyanka <> Morpheus\", distancia_usuarios(usuarios[\"Priyanka\"], usuarios[\"Morpheus\"]))\n",
        "sqrt((3 - 2) ** 2 + (4 - 5) ** 2 + (4 - 1) ** 2 + (1 - 3) ** 2 + (4 - 1) ** 2)"
      ],
      "metadata": {
        "id": "0pWfFGWVOnyB",
        "colab": {
          "base_uri": "https://localhost:8080/"
        },
        "outputId": "0d99180f-0359-43ea-ec33-b57702c133ca"
      },
      "execution_count": null,
      "outputs": [
        {
          "output_type": "execute_result",
          "data": {
            "text/plain": [
              "4.898979485566356"
            ]
          },
          "metadata": {},
          "execution_count": 96
        }
      ]
    },
    {
      "cell_type": "code",
      "source": [
        "usuarios_pd"
      ],
      "metadata": {
        "colab": {
          "base_uri": "https://localhost:8080/",
          "height": 206
        },
        "id": "y2NNVOIeRKby",
        "outputId": "39ef7d45-d6c6-453e-9591-7c7c27da6c2d"
      },
      "execution_count": null,
      "outputs": [
        {
          "output_type": "execute_result",
          "data": {
            "text/plain": [
              "         Priyanka  Justin  Morpheus\n",
              "comédia         3       4         2\n",
              "ação            4       3         5\n",
              "drama           4       5         1\n",
              "terror          1       1         3\n",
              "romance         4       5         1"
            ],
            "text/html": [
              "\n",
              "  <div id=\"df-4b937356-1eb6-4f51-86ca-b26ee1ad50f6\" class=\"colab-df-container\">\n",
              "    <div>\n",
              "<style scoped>\n",
              "    .dataframe tbody tr th:only-of-type {\n",
              "        vertical-align: middle;\n",
              "    }\n",
              "\n",
              "    .dataframe tbody tr th {\n",
              "        vertical-align: top;\n",
              "    }\n",
              "\n",
              "    .dataframe thead th {\n",
              "        text-align: right;\n",
              "    }\n",
              "</style>\n",
              "<table border=\"1\" class=\"dataframe\">\n",
              "  <thead>\n",
              "    <tr style=\"text-align: right;\">\n",
              "      <th></th>\n",
              "      <th>Priyanka</th>\n",
              "      <th>Justin</th>\n",
              "      <th>Morpheus</th>\n",
              "    </tr>\n",
              "  </thead>\n",
              "  <tbody>\n",
              "    <tr>\n",
              "      <th>comédia</th>\n",
              "      <td>3</td>\n",
              "      <td>4</td>\n",
              "      <td>2</td>\n",
              "    </tr>\n",
              "    <tr>\n",
              "      <th>ação</th>\n",
              "      <td>4</td>\n",
              "      <td>3</td>\n",
              "      <td>5</td>\n",
              "    </tr>\n",
              "    <tr>\n",
              "      <th>drama</th>\n",
              "      <td>4</td>\n",
              "      <td>5</td>\n",
              "      <td>1</td>\n",
              "    </tr>\n",
              "    <tr>\n",
              "      <th>terror</th>\n",
              "      <td>1</td>\n",
              "      <td>1</td>\n",
              "      <td>3</td>\n",
              "    </tr>\n",
              "    <tr>\n",
              "      <th>romance</th>\n",
              "      <td>4</td>\n",
              "      <td>5</td>\n",
              "      <td>1</td>\n",
              "    </tr>\n",
              "  </tbody>\n",
              "</table>\n",
              "</div>\n",
              "    <div class=\"colab-df-buttons\">\n",
              "\n",
              "  <div class=\"colab-df-container\">\n",
              "    <button class=\"colab-df-convert\" onclick=\"convertToInteractive('df-4b937356-1eb6-4f51-86ca-b26ee1ad50f6')\"\n",
              "            title=\"Convert this dataframe to an interactive table.\"\n",
              "            style=\"display:none;\">\n",
              "\n",
              "  <svg xmlns=\"http://www.w3.org/2000/svg\" height=\"24px\" viewBox=\"0 -960 960 960\">\n",
              "    <path d=\"M120-120v-720h720v720H120Zm60-500h600v-160H180v160Zm220 220h160v-160H400v160Zm0 220h160v-160H400v160ZM180-400h160v-160H180v160Zm440 0h160v-160H620v160ZM180-180h160v-160H180v160Zm440 0h160v-160H620v160Z\"/>\n",
              "  </svg>\n",
              "    </button>\n",
              "\n",
              "  <style>\n",
              "    .colab-df-container {\n",
              "      display:flex;\n",
              "      gap: 12px;\n",
              "    }\n",
              "\n",
              "    .colab-df-convert {\n",
              "      background-color: #E8F0FE;\n",
              "      border: none;\n",
              "      border-radius: 50%;\n",
              "      cursor: pointer;\n",
              "      display: none;\n",
              "      fill: #1967D2;\n",
              "      height: 32px;\n",
              "      padding: 0 0 0 0;\n",
              "      width: 32px;\n",
              "    }\n",
              "\n",
              "    .colab-df-convert:hover {\n",
              "      background-color: #E2EBFA;\n",
              "      box-shadow: 0px 1px 2px rgba(60, 64, 67, 0.3), 0px 1px 3px 1px rgba(60, 64, 67, 0.15);\n",
              "      fill: #174EA6;\n",
              "    }\n",
              "\n",
              "    .colab-df-buttons div {\n",
              "      margin-bottom: 4px;\n",
              "    }\n",
              "\n",
              "    [theme=dark] .colab-df-convert {\n",
              "      background-color: #3B4455;\n",
              "      fill: #D2E3FC;\n",
              "    }\n",
              "\n",
              "    [theme=dark] .colab-df-convert:hover {\n",
              "      background-color: #434B5C;\n",
              "      box-shadow: 0px 1px 3px 1px rgba(0, 0, 0, 0.15);\n",
              "      filter: drop-shadow(0px 1px 2px rgba(0, 0, 0, 0.3));\n",
              "      fill: #FFFFFF;\n",
              "    }\n",
              "  </style>\n",
              "\n",
              "    <script>\n",
              "      const buttonEl =\n",
              "        document.querySelector('#df-4b937356-1eb6-4f51-86ca-b26ee1ad50f6 button.colab-df-convert');\n",
              "      buttonEl.style.display =\n",
              "        google.colab.kernel.accessAllowed ? 'block' : 'none';\n",
              "\n",
              "      async function convertToInteractive(key) {\n",
              "        const element = document.querySelector('#df-4b937356-1eb6-4f51-86ca-b26ee1ad50f6');\n",
              "        const dataTable =\n",
              "          await google.colab.kernel.invokeFunction('convertToInteractive',\n",
              "                                                    [key], {});\n",
              "        if (!dataTable) return;\n",
              "\n",
              "        const docLinkHtml = 'Like what you see? Visit the ' +\n",
              "          '<a target=\"_blank\" href=https://colab.research.google.com/notebooks/data_table.ipynb>data table notebook</a>'\n",
              "          + ' to learn more about interactive tables.';\n",
              "        element.innerHTML = '';\n",
              "        dataTable['output_type'] = 'display_data';\n",
              "        await google.colab.output.renderOutput(dataTable, element);\n",
              "        const docLink = document.createElement('div');\n",
              "        docLink.innerHTML = docLinkHtml;\n",
              "        element.appendChild(docLink);\n",
              "      }\n",
              "    </script>\n",
              "  </div>\n",
              "\n",
              "\n",
              "<div id=\"df-d757d00d-3bf4-4f37-8886-682e6cf909e8\">\n",
              "  <button class=\"colab-df-quickchart\" onclick=\"quickchart('df-d757d00d-3bf4-4f37-8886-682e6cf909e8')\"\n",
              "            title=\"Suggest charts\"\n",
              "            style=\"display:none;\">\n",
              "\n",
              "<svg xmlns=\"http://www.w3.org/2000/svg\" height=\"24px\"viewBox=\"0 0 24 24\"\n",
              "     width=\"24px\">\n",
              "    <g>\n",
              "        <path d=\"M19 3H5c-1.1 0-2 .9-2 2v14c0 1.1.9 2 2 2h14c1.1 0 2-.9 2-2V5c0-1.1-.9-2-2-2zM9 17H7v-7h2v7zm4 0h-2V7h2v10zm4 0h-2v-4h2v4z\"/>\n",
              "    </g>\n",
              "</svg>\n",
              "  </button>\n",
              "\n",
              "<style>\n",
              "  .colab-df-quickchart {\n",
              "      --bg-color: #E8F0FE;\n",
              "      --fill-color: #1967D2;\n",
              "      --hover-bg-color: #E2EBFA;\n",
              "      --hover-fill-color: #174EA6;\n",
              "      --disabled-fill-color: #AAA;\n",
              "      --disabled-bg-color: #DDD;\n",
              "  }\n",
              "\n",
              "  [theme=dark] .colab-df-quickchart {\n",
              "      --bg-color: #3B4455;\n",
              "      --fill-color: #D2E3FC;\n",
              "      --hover-bg-color: #434B5C;\n",
              "      --hover-fill-color: #FFFFFF;\n",
              "      --disabled-bg-color: #3B4455;\n",
              "      --disabled-fill-color: #666;\n",
              "  }\n",
              "\n",
              "  .colab-df-quickchart {\n",
              "    background-color: var(--bg-color);\n",
              "    border: none;\n",
              "    border-radius: 50%;\n",
              "    cursor: pointer;\n",
              "    display: none;\n",
              "    fill: var(--fill-color);\n",
              "    height: 32px;\n",
              "    padding: 0;\n",
              "    width: 32px;\n",
              "  }\n",
              "\n",
              "  .colab-df-quickchart:hover {\n",
              "    background-color: var(--hover-bg-color);\n",
              "    box-shadow: 0 1px 2px rgba(60, 64, 67, 0.3), 0 1px 3px 1px rgba(60, 64, 67, 0.15);\n",
              "    fill: var(--button-hover-fill-color);\n",
              "  }\n",
              "\n",
              "  .colab-df-quickchart-complete:disabled,\n",
              "  .colab-df-quickchart-complete:disabled:hover {\n",
              "    background-color: var(--disabled-bg-color);\n",
              "    fill: var(--disabled-fill-color);\n",
              "    box-shadow: none;\n",
              "  }\n",
              "\n",
              "  .colab-df-spinner {\n",
              "    border: 2px solid var(--fill-color);\n",
              "    border-color: transparent;\n",
              "    border-bottom-color: var(--fill-color);\n",
              "    animation:\n",
              "      spin 1s steps(1) infinite;\n",
              "  }\n",
              "\n",
              "  @keyframes spin {\n",
              "    0% {\n",
              "      border-color: transparent;\n",
              "      border-bottom-color: var(--fill-color);\n",
              "      border-left-color: var(--fill-color);\n",
              "    }\n",
              "    20% {\n",
              "      border-color: transparent;\n",
              "      border-left-color: var(--fill-color);\n",
              "      border-top-color: var(--fill-color);\n",
              "    }\n",
              "    30% {\n",
              "      border-color: transparent;\n",
              "      border-left-color: var(--fill-color);\n",
              "      border-top-color: var(--fill-color);\n",
              "      border-right-color: var(--fill-color);\n",
              "    }\n",
              "    40% {\n",
              "      border-color: transparent;\n",
              "      border-right-color: var(--fill-color);\n",
              "      border-top-color: var(--fill-color);\n",
              "    }\n",
              "    60% {\n",
              "      border-color: transparent;\n",
              "      border-right-color: var(--fill-color);\n",
              "    }\n",
              "    80% {\n",
              "      border-color: transparent;\n",
              "      border-right-color: var(--fill-color);\n",
              "      border-bottom-color: var(--fill-color);\n",
              "    }\n",
              "    90% {\n",
              "      border-color: transparent;\n",
              "      border-bottom-color: var(--fill-color);\n",
              "    }\n",
              "  }\n",
              "</style>\n",
              "\n",
              "  <script>\n",
              "    async function quickchart(key) {\n",
              "      const quickchartButtonEl =\n",
              "        document.querySelector('#' + key + ' button');\n",
              "      quickchartButtonEl.disabled = true;  // To prevent multiple clicks.\n",
              "      quickchartButtonEl.classList.add('colab-df-spinner');\n",
              "      try {\n",
              "        const charts = await google.colab.kernel.invokeFunction(\n",
              "            'suggestCharts', [key], {});\n",
              "      } catch (error) {\n",
              "        console.error('Error during call to suggestCharts:', error);\n",
              "      }\n",
              "      quickchartButtonEl.classList.remove('colab-df-spinner');\n",
              "      quickchartButtonEl.classList.add('colab-df-quickchart-complete');\n",
              "    }\n",
              "    (() => {\n",
              "      let quickchartButtonEl =\n",
              "        document.querySelector('#df-d757d00d-3bf4-4f37-8886-682e6cf909e8 button');\n",
              "      quickchartButtonEl.style.display =\n",
              "        google.colab.kernel.accessAllowed ? 'block' : 'none';\n",
              "    })();\n",
              "  </script>\n",
              "</div>\n",
              "\n",
              "  <div id=\"id_384c17ea-e3fe-46f2-b548-c7109e4fd790\">\n",
              "    <style>\n",
              "      .colab-df-generate {\n",
              "        background-color: #E8F0FE;\n",
              "        border: none;\n",
              "        border-radius: 50%;\n",
              "        cursor: pointer;\n",
              "        display: none;\n",
              "        fill: #1967D2;\n",
              "        height: 32px;\n",
              "        padding: 0 0 0 0;\n",
              "        width: 32px;\n",
              "      }\n",
              "\n",
              "      .colab-df-generate:hover {\n",
              "        background-color: #E2EBFA;\n",
              "        box-shadow: 0px 1px 2px rgba(60, 64, 67, 0.3), 0px 1px 3px 1px rgba(60, 64, 67, 0.15);\n",
              "        fill: #174EA6;\n",
              "      }\n",
              "\n",
              "      [theme=dark] .colab-df-generate {\n",
              "        background-color: #3B4455;\n",
              "        fill: #D2E3FC;\n",
              "      }\n",
              "\n",
              "      [theme=dark] .colab-df-generate:hover {\n",
              "        background-color: #434B5C;\n",
              "        box-shadow: 0px 1px 3px 1px rgba(0, 0, 0, 0.15);\n",
              "        filter: drop-shadow(0px 1px 2px rgba(0, 0, 0, 0.3));\n",
              "        fill: #FFFFFF;\n",
              "      }\n",
              "    </style>\n",
              "    <button class=\"colab-df-generate\" onclick=\"generateWithVariable('usuarios_pd')\"\n",
              "            title=\"Generate code using this dataframe.\"\n",
              "            style=\"display:none;\">\n",
              "\n",
              "  <svg xmlns=\"http://www.w3.org/2000/svg\" height=\"24px\"viewBox=\"0 0 24 24\"\n",
              "       width=\"24px\">\n",
              "    <path d=\"M7,19H8.4L18.45,9,17,7.55,7,17.6ZM5,21V16.75L18.45,3.32a2,2,0,0,1,2.83,0l1.4,1.43a1.91,1.91,0,0,1,.58,1.4,1.91,1.91,0,0,1-.58,1.4L9.25,21ZM18.45,9,17,7.55Zm-12,3A5.31,5.31,0,0,0,4.9,8.1,5.31,5.31,0,0,0,1,6.5,5.31,5.31,0,0,0,4.9,4.9,5.31,5.31,0,0,0,6.5,1,5.31,5.31,0,0,0,8.1,4.9,5.31,5.31,0,0,0,12,6.5,5.46,5.46,0,0,0,6.5,12Z\"/>\n",
              "  </svg>\n",
              "    </button>\n",
              "    <script>\n",
              "      (() => {\n",
              "      const buttonEl =\n",
              "        document.querySelector('#id_384c17ea-e3fe-46f2-b548-c7109e4fd790 button.colab-df-generate');\n",
              "      buttonEl.style.display =\n",
              "        google.colab.kernel.accessAllowed ? 'block' : 'none';\n",
              "\n",
              "      buttonEl.onclick = () => {\n",
              "        google.colab.notebook.generateWithVariable('usuarios_pd');\n",
              "      }\n",
              "      })();\n",
              "    </script>\n",
              "  </div>\n",
              "\n",
              "    </div>\n",
              "  </div>\n"
            ],
            "application/vnd.google.colaboratory.intrinsic+json": {
              "type": "dataframe",
              "variable_name": "usuarios_pd",
              "summary": "{\n  \"name\": \"usuarios_pd\",\n  \"rows\": 5,\n  \"fields\": [\n    {\n      \"column\": \"Priyanka\",\n      \"properties\": {\n        \"dtype\": \"number\",\n        \"std\": 1,\n        \"min\": 1,\n        \"max\": 4,\n        \"num_unique_values\": 3,\n        \"samples\": [\n          3,\n          4,\n          1\n        ],\n        \"semantic_type\": \"\",\n        \"description\": \"\"\n      }\n    },\n    {\n      \"column\": \"Justin\",\n      \"properties\": {\n        \"dtype\": \"number\",\n        \"std\": 1,\n        \"min\": 1,\n        \"max\": 5,\n        \"num_unique_values\": 4,\n        \"samples\": [\n          3,\n          1,\n          4\n        ],\n        \"semantic_type\": \"\",\n        \"description\": \"\"\n      }\n    },\n    {\n      \"column\": \"Morpheus\",\n      \"properties\": {\n        \"dtype\": \"number\",\n        \"std\": 1,\n        \"min\": 1,\n        \"max\": 5,\n        \"num_unique_values\": 4,\n        \"samples\": [\n          5,\n          3,\n          2\n        ],\n        \"semantic_type\": \"\",\n        \"description\": \"\"\n      }\n    }\n  ]\n}"
            }
          },
          "metadata": {},
          "execution_count": 97
        }
      ]
    },
    {
      "cell_type": "code",
      "source": [
        "# fazendo o mesmo calculo de distância usando numpy\n",
        "import numpy as np\n",
        "np.linalg.norm(usuarios_pd[\"Morpheus\"] - usuarios_pd[\"Priyanka\"])"
      ],
      "metadata": {
        "colab": {
          "base_uri": "https://localhost:8080/"
        },
        "id": "HtSg7QA7aGCk",
        "outputId": "e10fee22-a271-4cca-90c9-e2c55c8f2529"
      },
      "execution_count": null,
      "outputs": [
        {
          "output_type": "execute_result",
          "data": {
            "text/plain": [
              "4.898979485566356"
            ]
          },
          "metadata": {},
          "execution_count": 102
        }
      ]
    },
    {
      "cell_type": "code",
      "source": [],
      "metadata": {
        "id": "pXL73HipaHbF"
      },
      "execution_count": null,
      "outputs": []
    }
  ]
}