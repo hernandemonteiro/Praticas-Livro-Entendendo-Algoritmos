{
  "nbformat": 4,
  "nbformat_minor": 0,
  "metadata": {
    "colab": {
      "provenance": [],
      "collapsed_sections": [
        "XMbJa4XU1Eis",
        "UdENEmlGIu1r"
      ],
      "authorship_tag": "ABX9TyMAIHibsWdhTrX3+G328jj3",
      "include_colab_link": true
    },
    "kernelspec": {
      "name": "python3",
      "display_name": "Python 3"
    },
    "language_info": {
      "name": "python"
    }
  },
  "cells": [
    {
      "cell_type": "markdown",
      "metadata": {
        "id": "view-in-github",
        "colab_type": "text"
      },
      "source": [
        "<a href=\"https://colab.research.google.com/github/hernandemonteiro/Praticas-Livro-Entendendo-Algoritmos/blob/main/livro_entendendo_algoritmos.ipynb\" target=\"_parent\"><img src=\"https://colab.research.google.com/assets/colab-badge.svg\" alt=\"Open In Colab\"/></a>"
      ]
    },
    {
      "cell_type": "markdown",
      "source": [
        "# **BigO Notation**\n",
        "É a função que calcula o tempo de execução de um algoritmo baseado no espaço, ela sempre retornara o pior dos casos para aquele algoritmo (etapas necessárias, no pior dos casos), esse tempo de execução não é medido em 's' ou 'ms', ele é medido sobre a quantidade de etapas que sera necessária para resolver o algoritmo.\n",
        "\n",
        "\n",
        "---\n",
        "\n",
        "\n",
        "### **Existem 7 niveis de complexidade:**\n",
        "\n",
        "\n",
        "---\n",
        "\n",
        "\n",
        "<table>\n",
        "<thead>\n",
        "<tr>\n",
        "  <th>Operações</th>\n",
        "  <th>Nome</th>\n",
        "  <th>Complexidade</th>\n",
        "</tr>\n",
        "</thead>\n",
        "<tbody>\n",
        "  <tr>\n",
        "    <td>O(n!)</td>\n",
        "    <td>Fatorial</td>\n",
        "    <td>Quando cresce o array, as operações crescem fatorialmente, pior de todos os BigOs</td>\n",
        "  </tr>\n",
        "   <tr>\n",
        "    <td>O(2^n)</td>\n",
        "    <td>Exponencial</td>\n",
        "    <td>O tempo de execução do algoritmo aumenta exponencialmente com o tamanho da entrada.</td>\n",
        "  </tr>\n",
        "   <tr>\n",
        "    <td>O(n²)</td>\n",
        "    <td>Quadrático</td>\n",
        "    <td>O tempo de execução do algoritmo é proporcional ao quadrado do tamanho da entrada.</td>\n",
        "  </tr>\n",
        "   <tr>\n",
        "    <td>O(n log n)</td>\n",
        "    <td>Proporcional</td>\n",
        "    <td>Cresce em conformidade com a quantidade de dados na estrutura, não recomendada.</td>\n",
        "  </tr>\n",
        "   <tr>\n",
        "    <td>O(n)</td>\n",
        "    <td>Linear</td>\n",
        "    <td>No pior caso teriamos de percorrer toda a estrutura de dados para encontrar o valor.</td>\n",
        "  </tr>\n",
        "   <tr>\n",
        "    <td>O(log n)</td>\n",
        "    <td>Logaritimica</td>\n",
        "    <td>Quanto maior for o tamanho da estrutura menos tempo ele leva em consideração aos outros tempos de execução.</td>\n",
        "  </tr>\n",
        "   <tr>\n",
        "    <td>O(1)</td>\n",
        "    <td>Constante</td>\n",
        "    <td>Independentemente do tamanho da entrada, o tempo de execução do algoritmo permanece constante.</td>\n",
        "  </tr>\n",
        "</tbody>\n",
        "</table>\n"
      ],
      "metadata": {
        "id": "Ua9rrQTKIrhb"
      }
    },
    {
      "cell_type": "markdown",
      "source": [
        "## **Exemplos de Algoritmos**\n",
        "Abaixo temos alguns algoritmos utilizando python como linguagem, esses algoritmos\n",
        "tem em sua descrição seu tempo de execução.\n",
        "\n",
        "\n",
        "---"
      ],
      "metadata": {
        "id": "CvsK1spkASiD"
      }
    },
    {
      "cell_type": "markdown",
      "source": [
        "### **Busca (Search)**\n",
        "Algoritmos de busca são algoritmos utilizados para encontrar uma informação dentro de um conjunto de dados (Array, Lista, ...)"
      ],
      "metadata": {
        "id": "8DG-Iw-lzyhL"
      }
    },
    {
      "cell_type": "markdown",
      "source": [
        "#### **Linear Search**\n",
        "<div align=\"center\">\n",
        "<h4>\n",
        "<b>Tempo de Execução: $$O(n)$$</b>\n",
        "</h4>\n",
        "\n",
        "O algoritmo de busca linear tem por base o acesso linear a informação pedida, ou seja, ele anda cada posição do array até encontrar o valor, então caso o item pedido seja o ultimo, temos que percorrer todo o conjunto de dados para encontrar a posição esperada, por isso seu tempo de execução é refletido no tamnho de seu conjunto O(n), sendo n o tamanho do conjunto.\n",
        "<br/>\n",
        "\n",
        "> Funciona bem apenas quando não temos a opção de ordenar a lista, então precisamos percorrer cada posição da lista.\n",
        "</div>"
      ],
      "metadata": {
        "id": "XMbJa4XU1Eis"
      }
    },
    {
      "cell_type": "code",
      "source": [
        "import random\n",
        "\n",
        "# criando array e bagunçando ordem para uso aleatorio\n",
        "array = list(range(1, 240))\n",
        "random.shuffle(array)\n",
        "\n",
        "def linearSearch(array, item):\n",
        "  step = 1\n",
        "  for number in array:\n",
        "    if number == item:\n",
        "      print(f\"Step ({step}) => {number}\")\n",
        "      break\n",
        "    step+=1\n",
        "\n",
        "# Exemplos\n",
        "linearSearch(array, 1)\n",
        "linearSearch(array, 50)\n",
        "linearSearch(array, 230)"
      ],
      "metadata": {
        "colab": {
          "base_uri": "https://localhost:8080/"
        },
        "id": "GOHBmIgs2ZKc",
        "outputId": "39858fdc-6845-41e0-85db-edd59a3bb086"
      },
      "execution_count": 47,
      "outputs": [
        {
          "output_type": "stream",
          "name": "stdout",
          "text": [
            "Step (223) => 1\n",
            "Step (75) => 50\n",
            "Step (19) => 230\n"
          ]
        }
      ]
    },
    {
      "cell_type": "markdown",
      "source": [
        "#### **Binary Search**\n",
        "\n",
        "<div align=\"center\">\n",
        "<h4><b>Tempo de Execução: $$O(\\log n)$$ </b></h4>\n",
        "<br/>\n",
        "Algoritmo de busca binaria tem por base a divisão e acesso ao valor central de um array ordenado, assim comparando a grandeza ou igualdade para excluir uma parte não correspondente do array.\n",
        "<br/>\n",
        "Chamamos de Busca Binária por ser sempre uma divisão ao meio do array.\n",
        "<br/>\n",
        "\n",
        "> Funciona apenas quando a lista é ordenada, em nosso caso de forma crescente.\n",
        "</div>"
      ],
      "metadata": {
        "id": "UdENEmlGIu1r"
      }
    },
    {
      "cell_type": "code",
      "source": [
        "# conjunto de dados\n",
        "array = list(range(1, 240001))"
      ],
      "metadata": {
        "id": "TOQzaVeQBF1t"
      },
      "execution_count": 48,
      "outputs": []
    },
    {
      "cell_type": "code",
      "source": [
        "# algoritmo\n",
        "def myBynarySearch(array, item):\n",
        "  step = 1\n",
        "  if not array[0] <= item <= array[-1]:\n",
        "    print(\"Error out of range!\")\n",
        "    return\n",
        "\n",
        "  while True:\n",
        "    index = len(array) // 2\n",
        "    currentNumber = array[index]\n",
        "\n",
        "    if(currentNumber == item):\n",
        "      print(f\"Steps: {step}\")\n",
        "      print(currentNumber)\n",
        "      break\n",
        "    if item < currentNumber:\n",
        "      array = array[0:index]\n",
        "    else:\n",
        "      array = array[index:len(array)]\n",
        "\n",
        "    step += 1\n",
        "\n",
        "# chamada do algoritmo com conjunto de dado\n",
        "myBynarySearch(array, 1)"
      ],
      "metadata": {
        "colab": {
          "base_uri": "https://localhost:8080/"
        },
        "id": "m4IlJW1cW17Y",
        "outputId": "1378ba6d-9506-4d7a-f34f-5b011b72a227"
      },
      "execution_count": 49,
      "outputs": [
        {
          "output_type": "stream",
          "name": "stdout",
          "text": [
            "Steps: 18\n",
            "1\n"
          ]
        }
      ]
    },
    {
      "cell_type": "markdown",
      "source": [
        "### **Ordenação (Sorting)**\n",
        "Algoritmos de ordenação são algoritmos utilizados para organizar de forma crescente ou decrescente uma estrutura de Dados.\n",
        "<br/>\n",
        "Hoje em dia a maioria das linguagens tem seus métodos internos de ordenação, então o estudo sobre é considerado uma boa prática, mas não tão usual no dia a dia."
      ],
      "metadata": {
        "id": "WlHRuaT4zZgb"
      }
    },
    {
      "cell_type": "markdown",
      "source": [
        "#### **Selection Sort**\n",
        "<div align=\"center\">\n",
        "<h4><b>Tempo de Execução: $$O(n²)$$</b></h4>\n",
        "O algoritmo trabalha diretamente no array original, trocando os elementos de posição conforme necessário para ordená-los.\n",
        "\n",
        "----\n",
        "##### **O selection sort funciona da seguinte maneira:**\n",
        "---\n",
        "\n",
        "<div align=\"left\">\n",
        "\n",
        "1. Para cada posição no array, encontre o menor elemento na parte não ordenada do array (começando da posição atual até o final).\n",
        "2. Troque o menor elemento encontrado com o elemento na posição atual.\n",
        "3. Avance para a próxima posição no array e repita o processo até que todo o array esteja ordenado.\n",
        "</div>\n",
        "</div>\n"
      ],
      "metadata": {
        "id": "wbyXNOnirZlW"
      }
    },
    {
      "cell_type": "code",
      "source": [
        "def searchMinor(arrayReceived):\n",
        "  minor = arrayReceived[0]\n",
        "  minor_index = 0\n",
        "  for i in range(1, len(arrayReceived)):\n",
        "    if(arrayReceived[i] < minor):\n",
        "      minor = arrayReceived[i]\n",
        "      minor_index = i\n",
        "  return minor_index"
      ],
      "metadata": {
        "id": "VR6NSJ0hqfRJ"
      },
      "execution_count": 149,
      "outputs": []
    },
    {
      "cell_type": "code",
      "source": [
        "def searchMajor(arrayReceived):\n",
        "  major = arrayReceived[0]\n",
        "  major_index = 0\n",
        "  for i in range(1, len(arrayReceived)):\n",
        "    if(arrayReceived[i] > major):\n",
        "        major = arrayReceived[i]\n",
        "        major_index = i\n",
        "  return major_index"
      ],
      "metadata": {
        "id": "yw2jQJs8DGpy"
      },
      "execution_count": 150,
      "outputs": []
    },
    {
      "cell_type": "code",
      "source": [
        "def selectionSort(arrayReceived, asc=True):\n",
        "  newArray = []\n",
        "  for i in range(len(arrayReceived)):\n",
        "    index = searchMinor(arrayReceived) if asc == True else searchMajor(arrayReceived)\n",
        "    newArray.append(arrayReceived.pop(index))\n",
        "  return newArray\n"
      ],
      "metadata": {
        "id": "U1Bm4YSwDO4I"
      },
      "execution_count": 156,
      "outputs": []
    },
    {
      "cell_type": "code",
      "source": [
        "array = [0, 3, 7, 4, 6, 2, 5, 8, 10, 1, 9]\n",
        "selectionSort(array, asc=False)"
      ],
      "metadata": {
        "colab": {
          "base_uri": "https://localhost:8080/"
        },
        "id": "SHKN4Ah2EbQt",
        "outputId": "984e92f3-fc3f-461a-9e86-4aa42b9164eb"
      },
      "execution_count": 159,
      "outputs": [
        {
          "output_type": "execute_result",
          "data": {
            "text/plain": [
              "[10, 9, 8, 7, 6, 5, 4, 3, 2, 1, 0]"
            ]
          },
          "metadata": {},
          "execution_count": 159
        }
      ]
    }
  ]
}