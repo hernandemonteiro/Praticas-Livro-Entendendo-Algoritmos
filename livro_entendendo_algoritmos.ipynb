{
  "nbformat": 4,
  "nbformat_minor": 0,
  "metadata": {
    "colab": {
      "provenance": [],
      "collapsed_sections": [
        "XMbJa4XU1Eis",
        "UdENEmlGIu1r"
      ],
      "authorship_tag": "ABX9TyOrt4HXoAaVMH9gOokmBl9S",
      "include_colab_link": true
    },
    "kernelspec": {
      "name": "python3",
      "display_name": "Python 3"
    },
    "language_info": {
      "name": "python"
    }
  },
  "cells": [
    {
      "cell_type": "markdown",
      "metadata": {
        "id": "view-in-github",
        "colab_type": "text"
      },
      "source": [
        "<a href=\"https://colab.research.google.com/github/hernandemonteiro/Praticas-Livro-Entendendo-Algoritmos/blob/main/livro_entendendo_algoritmos.ipynb\" target=\"_parent\"><img src=\"https://colab.research.google.com/assets/colab-badge.svg\" alt=\"Open In Colab\"/></a>"
      ]
    },
    {
      "cell_type": "markdown",
      "source": [
        "# **BigO Notation**\n",
        "É a função que calcula o tempo de execução de um algoritmo baseado no espaço, ela sempre retornara o pior dos casos para aquele algoritmo (etapas necessárias, no pior dos casos), esse tempo de execução não é medido em 's' ou 'ms', ele é medido sobre a quantidade de etapas que sera necessária para resolver o algoritmo.\n",
        "\n",
        "\n",
        "---\n",
        "\n",
        "\n",
        "### **Existem 7 niveis de complexidade:**\n",
        "\n",
        "\n",
        "---\n",
        "\n",
        "\n",
        "<table>\n",
        "<thead>\n",
        "<tr>\n",
        "  <th>Operações</th>\n",
        "  <th>Nome</th>\n",
        "  <th>Complexidade</th>\n",
        "</tr>\n",
        "</thead>\n",
        "<tbody>\n",
        "  <tr>\n",
        "    <td>O(n!)</td>\n",
        "    <td>Fatorial</td>\n",
        "    <td>Quando cresce o array, as operações crescem fatorialmente, pior de todos os BigOs</td>\n",
        "  </tr>\n",
        "   <tr>\n",
        "    <td>O(2^n)</td>\n",
        "    <td>Exponencial</td>\n",
        "    <td>O tempo de execução do algoritmo aumenta exponencialmente com o tamanho da entrada.</td>\n",
        "  </tr>\n",
        "   <tr>\n",
        "    <td>O(n²)</td>\n",
        "    <td>Quadrático</td>\n",
        "    <td>O tempo de execução do algoritmo é proporcional ao quadrado do tamanho da entrada.</td>\n",
        "  </tr>\n",
        "   <tr>\n",
        "    <td>O(n log n)</td>\n",
        "    <td>Proporcional</td>\n",
        "    <td>Cresce em conformidade com a quantidade de dados na estrutura.</td>\n",
        "  </tr>\n",
        "   <tr>\n",
        "    <td>O(n)</td>\n",
        "    <td>Linear</td>\n",
        "    <td>No pior caso teriamos de percorrer toda a estrutura de dados para encontrar o valor.</td>\n",
        "  </tr>\n",
        "   <tr>\n",
        "    <td>O(log n)</td>\n",
        "    <td>Logaritimica</td>\n",
        "    <td>Quanto maior for o tamanho da estrutura menos tempo ele leva em consideração aos outros tempos de execução.</td>\n",
        "  </tr>\n",
        "   <tr>\n",
        "    <td>O(1)</td>\n",
        "    <td>Constante</td>\n",
        "    <td>Independentemente do tamanho da entrada, o tempo de execução do algoritmo permanece constante.</td>\n",
        "  </tr>\n",
        "</tbody>\n",
        "</table>\n"
      ],
      "metadata": {
        "id": "Ua9rrQTKIrhb"
      }
    },
    {
      "cell_type": "markdown",
      "source": [
        "## **Exemplos de Algoritmos**\n",
        "Abaixo temos alguns algoritmos utilizando python como linguagem, esses algoritmos\n",
        "tem em sua descrição seu tempo de execução.\n",
        "\n",
        "\n",
        "---"
      ],
      "metadata": {
        "id": "CvsK1spkASiD"
      }
    },
    {
      "cell_type": "markdown",
      "source": [
        "### **Busca (Search)**\n",
        "Algoritmos de busca são algoritmos utilizados para encontrar uma informação dentro de um conjunto de dados (Array, Lista, ...)"
      ],
      "metadata": {
        "id": "8DG-Iw-lzyhL"
      }
    },
    {
      "cell_type": "markdown",
      "source": [
        "#### **Linear Search**\n",
        "<div align=\"center\">\n",
        "<h4>\n",
        "<b>Tempo de Execução: $$O(n)$$</b>\n",
        "</h4>\n",
        "\n",
        "O algoritmo de busca linear tem por base o acesso linear a informação pedida, ou seja, ele anda cada posição do array até encontrar o valor, então caso o item pedido seja o ultimo, temos que percorrer todo o conjunto de dados para encontrar a posição esperada, por isso seu tempo de execução é refletido no tamnho de seu conjunto O(n), sendo n o tamanho do conjunto.\n",
        "<br/>\n",
        "\n",
        "> Funciona bem apenas quando não temos a opção de ordenar a lista, então precisamos percorrer cada posição da lista.\n",
        "</div>"
      ],
      "metadata": {
        "id": "XMbJa4XU1Eis"
      }
    },
    {
      "cell_type": "code",
      "source": [
        "import random\n",
        "\n",
        "# criando array e bagunçando ordem para uso aleatorio\n",
        "array = list(range(1, 240))\n",
        "random.shuffle(array)\n",
        "\n",
        "def linearSearch(array, item):\n",
        "  step = 1\n",
        "  for number in array:\n",
        "    if number == item:\n",
        "      print(f\"Step ({step}) => {number}\")\n",
        "      break\n",
        "    step+=1\n",
        "\n",
        "# Exemplos\n",
        "linearSearch(array, 1)\n",
        "linearSearch(array, 50)\n",
        "linearSearch(array, 230)"
      ],
      "metadata": {
        "colab": {
          "base_uri": "https://localhost:8080/"
        },
        "id": "GOHBmIgs2ZKc",
        "outputId": "2c12ea16-6892-4e3e-b538-d51ce248802d"
      },
      "execution_count": null,
      "outputs": [
        {
          "output_type": "stream",
          "name": "stdout",
          "text": [
            "Step (196) => 1\n",
            "Step (160) => 50\n",
            "Step (58) => 230\n"
          ]
        }
      ]
    },
    {
      "cell_type": "markdown",
      "source": [
        "#### **Binary Search**\n",
        "\n",
        "<div align=\"center\">\n",
        "<h4><b>Tempo de Execução: $$O(\\log n)$$ </b></h4>\n",
        "<br/>\n",
        "Algoritmo de busca binaria tem por base a divisão e acesso ao valor central de um array ordenado, assim comparando a grandeza ou igualdade para excluir uma parte não correspondente do array.\n",
        "<br/>\n",
        "Chamamos de Busca Binária por ser sempre uma divisão ao meio do array.\n",
        "<br/>\n",
        "\n",
        "> Funciona apenas quando a lista é ordenada, em nosso caso de forma crescente.\n",
        "</div>"
      ],
      "metadata": {
        "id": "UdENEmlGIu1r"
      }
    },
    {
      "cell_type": "code",
      "source": [
        "# conjunto de dados\n",
        "array = list(range(1, 240001))"
      ],
      "metadata": {
        "id": "TOQzaVeQBF1t"
      },
      "execution_count": null,
      "outputs": []
    },
    {
      "cell_type": "code",
      "source": [
        "# algoritmo\n",
        "def myBynarySearch(array, item):\n",
        "  step = 1\n",
        "  if not array[0] <= item <= array[-1]:\n",
        "    print(\"Error out of range!\")\n",
        "    return\n",
        "\n",
        "  while True:\n",
        "    index = len(array) // 2\n",
        "    currentNumber = array[index]\n",
        "\n",
        "    if(currentNumber == item):\n",
        "      print(f\"Steps: {step}\")\n",
        "      print(currentNumber)\n",
        "      break\n",
        "    if item < currentNumber:\n",
        "      array = array[0:index]\n",
        "    else:\n",
        "      array = array[index:len(array)]\n",
        "\n",
        "    step += 1\n",
        "\n",
        "# chamada do algoritmo com conjunto de dado\n",
        "myBynarySearch(array, 1)"
      ],
      "metadata": {
        "colab": {
          "base_uri": "https://localhost:8080/"
        },
        "id": "m4IlJW1cW17Y",
        "outputId": "67ebc7b7-c135-4fba-9407-ea1d51e4b5a0"
      },
      "execution_count": null,
      "outputs": [
        {
          "output_type": "stream",
          "name": "stdout",
          "text": [
            "Steps: 18\n",
            "1\n"
          ]
        }
      ]
    },
    {
      "cell_type": "markdown",
      "source": [
        "### **Ordenação (Sorting)**\n",
        "Algoritmos de ordenação são algoritmos utilizados para organizar de forma crescente ou decrescente uma estrutura de Dados.\n",
        "<br/>\n",
        "Hoje em dia a maioria das linguagens tem seus métodos internos de ordenação, então o estudo sobre é considerado uma boa prática, mas não tão usual no dia a dia."
      ],
      "metadata": {
        "id": "WlHRuaT4zZgb"
      }
    },
    {
      "cell_type": "markdown",
      "source": [
        "#### **Selection Sort**\n",
        "<div align=\"center\">\n",
        "<h4><b>Tempo de Execução: $$O(n²)$$</b></h4>\n",
        "O algoritmo trabalha diretamente no array original, trocando os elementos de posição conforme necessário para ordená-los.\n",
        "\n",
        "----\n",
        "##### **O selection sort funciona da seguinte maneira:**\n",
        "---\n",
        "\n",
        "<div align=\"left\">\n",
        "\n",
        "1. Para cada posição no array, encontre o menor elemento na parte não ordenada do array (começando da posição atual até o final).\n",
        "2. Troque o menor elemento encontrado com o elemento na posição atual.\n",
        "3. Avance para a próxima posição no array e repita o processo até que todo o array esteja ordenado.\n",
        "</div>\n",
        "</div>\n"
      ],
      "metadata": {
        "id": "wbyXNOnirZlW"
      }
    },
    {
      "cell_type": "code",
      "source": [
        "def searchValue(arrayReceived, asc=True):\n",
        "  value = arrayReceived[0]\n",
        "  value_index = 0\n",
        "  for i in range(1, len(arrayReceived)):\n",
        "    condition = arrayReceived[i] < value if asc == True else arrayReceived[i] > value\n",
        "    if(condition):\n",
        "      value = arrayReceived[i]\n",
        "      value_index = i\n",
        "  return value_index"
      ],
      "metadata": {
        "id": "VR6NSJ0hqfRJ"
      },
      "execution_count": null,
      "outputs": []
    },
    {
      "cell_type": "code",
      "source": [
        "def selectionSort(arrayReceived, asc=True):\n",
        "  newArray = []\n",
        "  for i in range(len(arrayReceived)):\n",
        "    index = searchValue(arrayReceived, asc)\n",
        "    newArray.append(arrayReceived.pop(index))\n",
        "  return newArray"
      ],
      "metadata": {
        "id": "U1Bm4YSwDO4I"
      },
      "execution_count": null,
      "outputs": []
    },
    {
      "cell_type": "code",
      "source": [
        "array = [0, 3, 7, 4, 6, 2, 5, 8, 10, 1, 9]\n",
        "selectionSort(array, asc=False)"
      ],
      "metadata": {
        "colab": {
          "base_uri": "https://localhost:8080/"
        },
        "id": "SHKN4Ah2EbQt",
        "outputId": "7c301a35-36ce-4cb7-dc72-cde02e9fbc05"
      },
      "execution_count": null,
      "outputs": [
        {
          "output_type": "execute_result",
          "data": {
            "text/plain": [
              "[10, 9, 8, 7, 6, 5, 4, 3, 2, 1, 0]"
            ]
          },
          "metadata": {},
          "execution_count": 56
        }
      ]
    },
    {
      "cell_type": "markdown",
      "source": [
        "#### **Recursão**\n",
        "Vamos falar um pouco sobre recursão, aqui vão rodar alguns exemplos de código que podem ser utils em caso de precisarmos repetir sua chamada, ou seja, uma função que tem capacidade de chamar a si mesma novamente. dessa maneira aprenderemos recursão e logo voltaremos a falar sobre algoritmos de ordenação.\n",
        "\n",
        "\n",
        "\n",
        "> \"Os loops podem melhorar o desempenho do seu programa. a recursão melhora o desempenho do seu programador. Escolha o que for mais importante para sua situação.\"\n",
        "- Leigh CaldWell\n",
        "\n",
        "\n"
      ],
      "metadata": {
        "id": "D9yNGr4vVsQY"
      }
    },
    {
      "cell_type": "code",
      "source": [
        "# exemplo (fatorial), com loop\n",
        "\n",
        "def fatorial(number: int):\n",
        "  result = number\n",
        "  next = number;\n",
        "  while next > 1:\n",
        "    next-=1\n",
        "    result = result * next\n",
        "  return result"
      ],
      "metadata": {
        "id": "-Vi8S_BkWA9z"
      },
      "execution_count": null,
      "outputs": []
    },
    {
      "cell_type": "code",
      "source": [
        "fatorial(5)"
      ],
      "metadata": {
        "colab": {
          "base_uri": "https://localhost:8080/"
        },
        "id": "9AsB8VWLI7wx",
        "outputId": "335825e3-c170-4374-94da-e3b46190abc0"
      },
      "execution_count": null,
      "outputs": [
        {
          "output_type": "execute_result",
          "data": {
            "text/plain": [
              "120"
            ]
          },
          "metadata": {},
          "execution_count": 58
        }
      ]
    },
    {
      "cell_type": "code",
      "source": [
        "# fatorial recursivo\n",
        "\n",
        "def fat(x: int):\n",
        "  if x == 1:\n",
        "    return 1\n",
        "  else:\n",
        "    return x * fat(x-1)"
      ],
      "metadata": {
        "id": "L2pdnbhzF0s3"
      },
      "execution_count": null,
      "outputs": []
    },
    {
      "cell_type": "code",
      "source": [
        "fat(5)"
      ],
      "metadata": {
        "colab": {
          "base_uri": "https://localhost:8080/"
        },
        "id": "4hCryCRqGFPV",
        "outputId": "a1d2ab1e-6ceb-4c3f-ec85-0b199ca2c269"
      },
      "execution_count": null,
      "outputs": [
        {
          "output_type": "execute_result",
          "data": {
            "text/plain": [
              "120"
            ]
          },
          "metadata": {},
          "execution_count": 60
        }
      ]
    },
    {
      "cell_type": "code",
      "source": [
        "# função regressiva (recursiva) que chama a si mesma\n",
        "def regressiva(number: int):\n",
        "  print(number)\n",
        "  if number > 1:\n",
        "    regressiva(number -1)"
      ],
      "metadata": {
        "id": "AC8EZ4NkPQsL"
      },
      "execution_count": null,
      "outputs": []
    },
    {
      "cell_type": "code",
      "source": [
        "regressiva(5)"
      ],
      "metadata": {
        "colab": {
          "base_uri": "https://localhost:8080/"
        },
        "id": "U-LeOqDLh2zu",
        "outputId": "ad310ce2-7cd6-4806-ea7a-2d2d141773cd"
      },
      "execution_count": null,
      "outputs": [
        {
          "output_type": "stream",
          "name": "stdout",
          "text": [
            "5\n",
            "4\n",
            "3\n",
            "2\n",
            "1\n"
          ]
        }
      ]
    },
    {
      "cell_type": "markdown",
      "source": [
        "#### **Quick Sort**\n",
        "\n",
        "Algoritmo de ordenação, com o lema: dividir para conquistar.\n",
        "<br/>\n",
        "\n",
        "Mais rápido que o Merge Sort, a relevância da constante de medida do BigO é uma das causas desse feito."
      ],
      "metadata": {
        "id": "lnCA1_VHfaKh"
      }
    },
    {
      "cell_type": "code",
      "source": [
        "# exemplo de DC ( dividir para conquistar )\n",
        "# aqui vemos uma ideia básica sobre\n",
        "# o métodod usado no algoritmo que estamos acompanhando\n",
        "# lição 4.1\n",
        "numberList = [2, 4, 5, 2]\n",
        "\n",
        "def sum(array: list[int]):\n",
        "  if not array:\n",
        "    return 0\n",
        "  else:\n",
        "    return array[0] + sum(array[1:])\n",
        "\n",
        "sum(numberList)"
      ],
      "metadata": {
        "colab": {
          "base_uri": "https://localhost:8080/"
        },
        "id": "h0f0NDGbfoH8",
        "outputId": "bedd637f-fb60-469e-92b3-2b074d22ea0a"
      },
      "execution_count": null,
      "outputs": [
        {
          "output_type": "execute_result",
          "data": {
            "text/plain": [
              "13"
            ]
          },
          "metadata": {},
          "execution_count": 63
        }
      ]
    },
    {
      "cell_type": "code",
      "source": [
        "# contar os numeros da lista com função recursiva (DC)\n",
        "# lição 4.2\n",
        "numberList = [2, 4, 4]\n",
        "\n",
        "def countItems(array: list[int]):\n",
        "  if not array:\n",
        "    return 0\n",
        "  else:\n",
        "    return 1 + countItems(array[1:])\n",
        "\n",
        "countItems(numberList)"
      ],
      "metadata": {
        "colab": {
          "base_uri": "https://localhost:8080/"
        },
        "id": "A8MtQNG-bGrk",
        "outputId": "dd412b37-2741-46fb-a1af-b078a53e8413"
      },
      "execution_count": null,
      "outputs": [
        {
          "output_type": "execute_result",
          "data": {
            "text/plain": [
              "3"
            ]
          },
          "metadata": {},
          "execution_count": 64
        }
      ]
    },
    {
      "cell_type": "code",
      "source": [
        "# encontrar o valor mais alto da lista de forma recursiva (DC)\n",
        "# lição 4.3\n",
        "numberList = [2, 4, 12, 133, 4, 5, 25]\n",
        "\n",
        "def majorInArray(array: list[int]):\n",
        "  if len(array) == 1:\n",
        "    return array[0]\n",
        "  nextCall = majorInArray(array[1:])\n",
        "  return array[0] if array[0] >  nextCall else nextCall\n",
        "\n",
        "majorInArray(numberList)"
      ],
      "metadata": {
        "colab": {
          "base_uri": "https://localhost:8080/"
        },
        "id": "KuIVjMzurTYH",
        "outputId": "7f417b54-e854-4e24-e7fd-544e1f7276ec"
      },
      "execution_count": null,
      "outputs": [
        {
          "output_type": "execute_result",
          "data": {
            "text/plain": [
              "133"
            ]
          },
          "metadata": {},
          "execution_count": 65
        }
      ]
    },
    {
      "cell_type": "code",
      "source": [
        "# Agora vamos ao QuickSort\n",
        "# escolhemos um numero como pivo\n",
        "# depois criamos dois arrays, um com os valores menores\n",
        "# e outro com os maiores que o pivo\n",
        "# após retornamos a soma de menores + pivo + maiores\n",
        "# e chamamos a recursividade para fazer isso até que\n",
        "# o caso-base seja retornado, ou seja, um array de\n",
        "# 1 posição, mesmo nesse caso o pior caso seria O(n)\n",
        "\n",
        "numberList = [32, 2, 74, 4, 12, 133, 1, 5, 25]\n",
        "\n",
        "def qsort(array: list[int]):\n",
        "  if len(array) < 2:\n",
        "    return array\n",
        "  else:\n",
        "    pivot: int = array[0]\n",
        "    minor = [i for i in array[1:] if i <= pivot]\n",
        "    major = [i for i in array[1:] if i >= pivot]\n",
        "    return qsort(minor) + [pivot] + qsort(major)\n",
        "\n",
        "qsort(numberList)"
      ],
      "metadata": {
        "colab": {
          "base_uri": "https://localhost:8080/"
        },
        "id": "-lHQ3SV1cuqL",
        "outputId": "b846833a-55aa-4272-f66c-db225edae13a"
      },
      "execution_count": null,
      "outputs": [
        {
          "output_type": "execute_result",
          "data": {
            "text/plain": [
              "[1, 2, 4, 5, 12, 25, 32, 74, 133]"
            ]
          },
          "metadata": {},
          "execution_count": 66
        }
      ]
    },
    {
      "cell_type": "code",
      "source": [
        "# para diminuirmos o pior caso de tempo de execução para\n",
        "# O(n log n), podemos escolher o pivo aleatoriamente,\n",
        "# assim, os casos que apresentarem um ordenação podem\n",
        "# ser ordenados mais facilmente\n",
        "\n",
        "import random\n",
        "\n",
        "numberList = [32, 2, 74, 54, 4, 6, 12, 133, 1, 5, 25]\n",
        "\n",
        "def qsort2(array: list[int]):\n",
        "    if len(array) < 2:\n",
        "        return array\n",
        "    else:\n",
        "        pivot_index = random.randint(0, len(array) - 1)\n",
        "        pivot = array[pivot_index]\n",
        "        minor = [i for i in array[:pivot_index] + array[pivot_index + 1:] if i <= pivot]\n",
        "        major = [i for i in array[:pivot_index] + array[pivot_index + 1:] if i >= pivot]\n",
        "        return qsort2(minor) + [pivot] + qsort2(major)\n",
        "\n",
        "qsort2(numberList)\n"
      ],
      "metadata": {
        "colab": {
          "base_uri": "https://localhost:8080/"
        },
        "id": "mXwj_2wLKAos",
        "outputId": "00fb0ca4-4cb5-4639-cbd8-eca34639c9bf"
      },
      "execution_count": null,
      "outputs": [
        {
          "output_type": "execute_result",
          "data": {
            "text/plain": [
              "[1, 2, 4, 5, 6, 12, 25, 32, 54, 74, 133]"
            ]
          },
          "metadata": {},
          "execution_count": 4
        }
      ]
    },
    {
      "cell_type": "markdown",
      "source": [
        "### **Tabelas Hash**\n",
        "\n",
        "Hash Tables ou Tabelas Hash, é uma estrutura de dados básica muito útil, ela mapeia chaves para valores, utilizando uma função de hash para calcular um índice (endereço) onde um valor pode ser encontrado.\n",
        "<br/>\n",
        "\n",
        "Elas funcionam com uma função hash, que retorna um valor para cada posição, mapeando assim as chaves para indices.\n",
        "<br/>\n",
        "\n",
        "São ótimas quando você deseja mapear algum item em relação a outro, por você precisar pesquisar algo.\n",
        "<br/><br/>\n",
        "Podem ser utilizadas para cachear informações importantes para a aplicação."
      ],
      "metadata": {
        "id": "Ct0__BXyLFNg"
      }
    },
    {
      "cell_type": "code",
      "source": [
        "# dentro das linguagens temos implementações\n",
        "# de hash tables como o Dictionary em python\n",
        "# ou os objects (JSON) em JS/TS\n",
        "\n",
        "caderno = dict()\n",
        "# ou caderno = {}\n",
        "caderno[\"maçã\"] = 0.67\n",
        "caderno[\"leite\"] = 1.49\n",
        "caderno[\"abacate\"] = 1.49\n",
        "\n",
        "print(f\"caderno: {caderno}\")\n",
        "\n",
        "# ficando mais facil acessar as posições\n",
        "# por cada item ser um index, isso fica mais facil\n",
        "\n",
        "print(\"Leite:\", caderno[\"leite\"])\n",
        "\n",
        "# que também pode ser escrito em python assim:\n",
        "\n",
        "caderno2 = {\n",
        "    \"maçã\": 0.67,\n",
        "    \"leite\": 1.49,\n",
        "    \"abacate\": 1.49,\n",
        "}\n",
        "\n",
        "print(f\"caderno2: {caderno2}\")"
      ],
      "metadata": {
        "colab": {
          "base_uri": "https://localhost:8080/"
        },
        "id": "wEXh3kvBQ1Y-",
        "outputId": "c258141b-4ba1-440d-f663-76f8303d678c"
      },
      "execution_count": null,
      "outputs": [
        {
          "output_type": "stream",
          "name": "stdout",
          "text": [
            "caderno: {'maçã': 0.67, 'leite': 1.49, 'abacate': 1.49}\n",
            "Leite: 1.49\n",
            "caderno2: {'maçã': 0.67, 'leite': 1.49, 'abacate': 1.49}\n"
          ]
        }
      ]
    },
    {
      "cell_type": "code",
      "source": [
        "print(caderno.get(\"uva\"))\n",
        "print(caderno.get(\"maçã\"))"
      ],
      "metadata": {
        "colab": {
          "base_uri": "https://localhost:8080/"
        },
        "id": "U5QWYacwzdpI",
        "outputId": "f89626c2-98c8-444d-a825-b76781e2d97e"
      },
      "execution_count": null,
      "outputs": [
        {
          "output_type": "stream",
          "name": "stdout",
          "text": [
            "None\n",
            "0.67\n"
          ]
        }
      ]
    },
    {
      "cell_type": "code",
      "source": [
        "# exemplo para verificar se pessoas já votaram\n",
        "# em uma eleição\n",
        "\n",
        "voted = {}\n",
        "\n",
        "def verify_elector(name: str):\n",
        "  if voted.get(name):\n",
        "    print(\"Mande embora!\")\n",
        "  else:\n",
        "    voted[name] = True\n",
        "    print(\"Deixe votar\")\n",
        "\n",
        "# primeira vez que chega ao local para votar e apresenta nome\n",
        "verify_elector(\"Hernande\")\n",
        "print(\"\\n Votou! \\n\")\n",
        "# segunda vez chegando ao local que já votou\n",
        "verify_elector(\"Hernande\")"
      ],
      "metadata": {
        "colab": {
          "base_uri": "https://localhost:8080/"
        },
        "id": "73YeqLxp0ANI",
        "outputId": "a964cd7d-12aa-4e34-cd94-12b97e7d371b"
      },
      "execution_count": null,
      "outputs": [
        {
          "output_type": "stream",
          "name": "stdout",
          "text": [
            "Deixe votar\n",
            "\n",
            " Votou! \n",
            "\n",
            "Mande embora!\n"
          ]
        }
      ]
    },
    {
      "cell_type": "markdown",
      "source": [
        "##### **Colisões e Desempenho**\n",
        "Colisão é quando duas chaves são indicadas para o mesmo espaço em memória, para isso é importante o uso da função hash, ela mapeia cada dado para um único espaço.\n",
        "<br/>\n",
        "Para uma tabela hash ter um tempo de execução constante O(1), é importante que ela tenha um baixo fator de carga e uma boa função hash, senão pode causar colisões e podemos também gerar o pior caso de tempo de execução O(n) o que seria um tempo linear."
      ],
      "metadata": {
        "id": "zBMXWLWz137w"
      }
    },
    {
      "cell_type": "code",
      "source": [],
      "metadata": {
        "id": "GLKp81s_6L-n"
      },
      "execution_count": null,
      "outputs": []
    }
  ]
}